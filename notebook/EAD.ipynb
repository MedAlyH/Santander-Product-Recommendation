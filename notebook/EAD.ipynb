{
 "cells": [
  {
   "cell_type": "code",
   "execution_count": 8,
   "metadata": {
    "collapsed": false
   },
   "outputs": [],
   "source": [
    "%matplotlib inline\n",
    "import pandas as pd\n",
    "import numpy as np\n",
    "import matplotlib.pyplot as plt\n",
    "plt.style.use('ggplot')"
   ]
  },
  {
   "cell_type": "code",
   "execution_count": 5,
   "metadata": {
    "collapsed": false
   },
   "outputs": [
    {
     "data": {
      "text/plain": [
       "'../data/input/train_ver2.csv'"
      ]
     },
     "execution_count": 5,
     "metadata": {},
     "output_type": "execute_result"
    }
   ],
   "source": [
    "import os\n",
    "\n",
    "path = '../data/input'\n",
    "train_file = 'train_ver2.csv'\n",
    "test_file = 'test_ver2.csv'"
   ]
  },
  {
   "cell_type": "code",
   "execution_count": 6,
   "metadata": {
    "collapsed": false
   },
   "outputs": [
    {
     "name": "stderr",
     "output_type": "stream",
     "text": [
      "/usr/local/lib/python2.7/dist-packages/IPython/core/interactiveshell.py:2717: DtypeWarning: Columns (5,8,11,15) have mixed types. Specify dtype option on import or set low_memory=False.\n",
      "  interactivity=interactivity, compiler=compiler, result=result)\n"
     ]
    }
   ],
   "source": [
    "train = pd.read_csv(os.path.join(path, train_file))\n",
    "test = pd.read_csv(os.path.join(path, train_file))"
   ]
  },
  {
   "cell_type": "code",
   "execution_count": 9,
   "metadata": {
    "collapsed": false
   },
   "outputs": [
    {
     "name": "stdout",
     "output_type": "stream",
     "text": [
      "<class 'pandas.core.frame.DataFrame'>\n",
      "RangeIndex: 13647309 entries, 0 to 13647308\n",
      "Data columns (total 48 columns):\n",
      "fecha_dato               object\n",
      "ncodpers                 int64\n",
      "ind_empleado             object\n",
      "pais_residencia          object\n",
      "sexo                     object\n",
      "age                      object\n",
      "fecha_alta               object\n",
      "ind_nuevo                float64\n",
      "antiguedad               object\n",
      "indrel                   float64\n",
      "ult_fec_cli_1t           object\n",
      "indrel_1mes              object\n",
      "tiprel_1mes              object\n",
      "indresi                  object\n",
      "indext                   object\n",
      "conyuemp                 object\n",
      "canal_entrada            object\n",
      "indfall                  object\n",
      "tipodom                  float64\n",
      "cod_prov                 float64\n",
      "nomprov                  object\n",
      "ind_actividad_cliente    float64\n",
      "renta                    float64\n",
      "segmento                 object\n",
      "ind_ahor_fin_ult1        int64\n",
      "ind_aval_fin_ult1        int64\n",
      "ind_cco_fin_ult1         int64\n",
      "ind_cder_fin_ult1        int64\n",
      "ind_cno_fin_ult1         int64\n",
      "ind_ctju_fin_ult1        int64\n",
      "ind_ctma_fin_ult1        int64\n",
      "ind_ctop_fin_ult1        int64\n",
      "ind_ctpp_fin_ult1        int64\n",
      "ind_deco_fin_ult1        int64\n",
      "ind_deme_fin_ult1        int64\n",
      "ind_dela_fin_ult1        int64\n",
      "ind_ecue_fin_ult1        int64\n",
      "ind_fond_fin_ult1        int64\n",
      "ind_hip_fin_ult1         int64\n",
      "ind_plan_fin_ult1        int64\n",
      "ind_pres_fin_ult1        int64\n",
      "ind_reca_fin_ult1        int64\n",
      "ind_tjcr_fin_ult1        int64\n",
      "ind_valo_fin_ult1        int64\n",
      "ind_viv_fin_ult1         int64\n",
      "ind_nomina_ult1          float64\n",
      "ind_nom_pens_ult1        float64\n",
      "ind_recibo_ult1          int64\n",
      "dtypes: float64(8), int64(23), object(17)\n",
      "memory usage: 4.9+ GB\n"
     ]
    }
   ],
   "source": [
    "train.info()"
   ]
  },
  {
   "cell_type": "code",
   "execution_count": 10,
   "metadata": {
    "collapsed": false
   },
   "outputs": [
    {
     "data": {
      "text/plain": [
       "fecha_dato               False\n",
       "ncodpers                 False\n",
       "ind_empleado              True\n",
       "pais_residencia           True\n",
       "sexo                      True\n",
       "age                      False\n",
       "fecha_alta                True\n",
       "ind_nuevo                 True\n",
       "antiguedad               False\n",
       "indrel                    True\n",
       "ult_fec_cli_1t            True\n",
       "indrel_1mes               True\n",
       "tiprel_1mes               True\n",
       "indresi                   True\n",
       "indext                    True\n",
       "conyuemp                  True\n",
       "canal_entrada             True\n",
       "indfall                   True\n",
       "tipodom                   True\n",
       "cod_prov                  True\n",
       "nomprov                   True\n",
       "ind_actividad_cliente     True\n",
       "renta                     True\n",
       "segmento                  True\n",
       "ind_ahor_fin_ult1        False\n",
       "ind_aval_fin_ult1        False\n",
       "ind_cco_fin_ult1         False\n",
       "ind_cder_fin_ult1        False\n",
       "ind_cno_fin_ult1         False\n",
       "ind_ctju_fin_ult1        False\n",
       "ind_ctma_fin_ult1        False\n",
       "ind_ctop_fin_ult1        False\n",
       "ind_ctpp_fin_ult1        False\n",
       "ind_deco_fin_ult1        False\n",
       "ind_deme_fin_ult1        False\n",
       "ind_dela_fin_ult1        False\n",
       "ind_ecue_fin_ult1        False\n",
       "ind_fond_fin_ult1        False\n",
       "ind_hip_fin_ult1         False\n",
       "ind_plan_fin_ult1        False\n",
       "ind_pres_fin_ult1        False\n",
       "ind_reca_fin_ult1        False\n",
       "ind_tjcr_fin_ult1        False\n",
       "ind_valo_fin_ult1        False\n",
       "ind_viv_fin_ult1         False\n",
       "ind_nomina_ult1           True\n",
       "ind_nom_pens_ult1         True\n",
       "ind_recibo_ult1          False\n",
       "dtype: bool"
      ]
     },
     "execution_count": 10,
     "metadata": {},
     "output_type": "execute_result"
    }
   ],
   "source": [
    "train.isnull().any()"
   ]
  },
  {
   "cell_type": "code",
   "execution_count": null,
   "metadata": {
    "collapsed": true
   },
   "outputs": [],
   "source": []
  }
 ],
 "metadata": {
  "kernelspec": {
   "display_name": "Python 2",
   "language": "python",
   "name": "python2"
  },
  "language_info": {
   "codemirror_mode": {
    "name": "ipython",
    "version": 2
   },
   "file_extension": ".py",
   "mimetype": "text/x-python",
   "name": "python",
   "nbconvert_exporter": "python",
   "pygments_lexer": "ipython2",
   "version": "2.7.12"
  }
 },
 "nbformat": 4,
 "nbformat_minor": 1
}
