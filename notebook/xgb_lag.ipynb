{
 "cells": [
  {
   "cell_type": "code",
   "execution_count": 1,
   "metadata": {
    "collapsed": true
   },
   "outputs": [],
   "source": [
    "%matplotlib inline\n",
    "import pandas as pd\n",
    "import numpy as np\n",
    "import matplotlib.pyplot as plt\n",
    "from datetime import datetime\n",
    "import csv\n",
    "plt.style.use('ggplot')"
   ]
  },
  {
   "cell_type": "code",
   "execution_count": 2,
   "metadata": {
    "collapsed": true
   },
   "outputs": [],
   "source": [
    "def getDate(traindate, lag):\n",
    "    year, month, day = traindate\n",
    "    if (month+lag)%12 == 0:\n",
    "        year += (month+lag)/12 - 1\n",
    "        month = 12\n",
    "    else:\n",
    "        year += (month+lag)/12\n",
    "        month = (month+lag)%12\n",
    "    return (year, month, day)\n",
    "\n",
    "def strDate(date):\n",
    "    year, month, day = date\n",
    "    if month < 10:\n",
    "        return '{}-0{}-{}'.format(year, month, day)\n",
    "    else:\n",
    "        return '{}-{}-{}'.format(year, month, day)"
   ]
  },
  {
   "cell_type": "code",
   "execution_count": 3,
   "metadata": {
    "collapsed": true
   },
   "outputs": [],
   "source": [
    "features = ['ind_empleado', 'pais_residencia', 'sexo', 'age', 'fecha_alta',\n",
    "            'ind_nuevo', 'antiguedad', 'indrel','ult_fec_cli_1t',\n",
    "            'indrel_1mes', 'tiprel_1mes', 'indresi','indext', 'conyuemp',\n",
    "            'canal_entrada', 'indfall', 'tipodom', 'cod_prov',\n",
    "            'ind_actividad_cliente', 'renta', 'segmento']\n",
    "target_cols = ['ind_ahor_fin_ult1','ind_aval_fin_ult1','ind_cco_fin_ult1',\n",
    "               'ind_cder_fin_ult1','ind_cno_fin_ult1','ind_ctju_fin_ult1',\n",
    "               'ind_ctma_fin_ult1','ind_ctop_fin_ult1','ind_ctpp_fin_ult1',\n",
    "               'ind_deco_fin_ult1','ind_deme_fin_ult1','ind_dela_fin_ult1',\n",
    "               'ind_ecue_fin_ult1','ind_fond_fin_ult1','ind_hip_fin_ult1',\n",
    "               'ind_plan_fin_ult1','ind_pres_fin_ult1','ind_reca_fin_ult1',\n",
    "               'ind_tjcr_fin_ult1','ind_valo_fin_ult1','ind_viv_fin_ult1',\n",
    "               'ind_nomina_ult1','ind_nom_pens_ult1','ind_recibo_ult1']"
   ]
  },
  {
   "cell_type": "code",
   "execution_count": 4,
   "metadata": {
    "collapsed": true
   },
   "outputs": [],
   "source": [
    "def getAge(row):\n",
    "    mean_age = 40.\n",
    "    min_age = 20.\n",
    "    max_age = 90.\n",
    "    range_age = max_age - min_age\n",
    "    age = int(row['age'])\n",
    "    if age == -1:\n",
    "        age = mean_age\n",
    "    else:\n",
    "        age = float(age)\n",
    "        if age < min_age:\n",
    "            age = min_age\n",
    "        elif age > max_age:\n",
    "            age = max_age\n",
    "    return round( (age - min_age) / range_age, 4)\n",
    "\n",
    "def getCustSeniority(row):\n",
    "    min_value = 0.\n",
    "    max_value = 256.\n",
    "    range_value = max_value - min_value\n",
    "    missing_value = 0.\n",
    "    cust_seniority = float(row['antiguedad'])\n",
    "    if cust_seniority == -1:\n",
    "        cust_seniority = missing_value\n",
    "    else:\n",
    "        if cust_seniority < min_value:\n",
    "            cust_seniority = min_value\n",
    "        elif cust_seniority > max_value:\n",
    "            cust_seniority = max_value\n",
    "    return round((cust_seniority-min_value) / range_value, 4)\n",
    "\n",
    "def getRent(row):\n",
    "    min_value = 0.\n",
    "    max_value = 1500000.\n",
    "    range_value = max_value - min_value\n",
    "    missing_value = 101850.\n",
    "    rent = float(row['renta'])\n",
    "    if rent == -1:\n",
    "        rent = missing_value\n",
    "    else:\n",
    "        rent = float(rent)\n",
    "        if rent < min_value:\n",
    "            rent = min_value\n",
    "        elif rent > max_value:\n",
    "            rent = max_value\n",
    "    return round((rent-min_value) / range_value, 6)\n",
    "\n",
    "def getColVal(row, col):\n",
    "    if col == 'antiguedad':\n",
    "        return getCustSeniority(row)\n",
    "    elif col == 'renta':\n",
    "        return getRent(row)\n",
    "    elif col == 'age':\n",
    "        return getAge(row)\n",
    "    else:\n",
    "        return int(row[col])"
   ]
  },
  {
   "cell_type": "code",
   "execution_count": 5,
   "metadata": {
    "collapsed": false
   },
   "outputs": [],
   "source": [
    "def creatTrainData(filename, lag=-5, traindate=(2015, 6, 28), testdate=(2016, 6, 28)):\n",
    "    lagdate = strDate(getDate(traindate, lag))\n",
    "    prevdate = strDate(getDate(traindate, -1))\n",
    "    traindate = strDate(traindate)\n",
    "    testprevdate = strDate(getDate(testdate, -1))\n",
    "    testlagdate = strDate(getDate(testdate, lag))\n",
    "    testdate = strDate(testdate)\n",
    "    with open(filename, 'r') as trainfile:\n",
    "        X = []\n",
    "        y = []\n",
    "        prev_dict = {}\n",
    "        lag_dict = {}\n",
    "        test_prev = {}\n",
    "        test_lag = {}\n",
    "        for row in csv.DictReader(trainfile):\n",
    "            dt = row['fecha_dato']\n",
    "            cust_id = row['ncodpers']\n",
    "            if dt not in [traindate, lagdate, prevdate, testprevdate, testlagdate, testdate]:\n",
    "                continue\n",
    "            target = [getColVal(row, col) for col in target_cols]\n",
    "            if dt == lagdate:\n",
    "                lag_dict[cust_id] = target\n",
    "            elif dt == prevdate:\n",
    "                prev_dict[cust_id] = target\n",
    "            elif dt == testprevdate:\n",
    "                test_prev[cust_id] = target\n",
    "            elif dt == testlagdate:\n",
    "                test_lag[cust_id] = target\n",
    "            elif dt == traindate:\n",
    "                prev = prev_dict.get(cust_id, [0]*24)\n",
    "                new_products = [max(x1 - x2,0) for (x1, x2) in zip(target, prev)]\n",
    "                if sum(new_products) > 0:\n",
    "                    for ind, prod in enumerate(new_products):\n",
    "                        if prod>0:\n",
    "                            lag = lag_dict.get(cust_id, [0]*24)\n",
    "                            x_vars = [getColVal(row, col) for col in features]\n",
    "                            X.append(x_vars+prev+lag)\n",
    "                            y.append(ind)\n",
    "    return np.array(X), np.array(y), test_prev, test_lag\n",
    "X, y, test_prev, test_lag = creatTrainData('../data/input/train.csv')"
   ]
  },
  {
   "cell_type": "code",
   "execution_count": 6,
   "metadata": {
    "collapsed": false
   },
   "outputs": [
    {
     "data": {
      "text/plain": [
       "(array([  9.45700000e+03,   9.00000000e+00,   1.93400000e+03,\n",
       "          5.50000000e+01,   3.49000000e+02,   2.22000000e+02,\n",
       "          1.54000000e+02,   5.03000000e+02,   3.30000000e+01,\n",
       "          1.08500000e+03,   1.21900000e+03,   0.00000000e+00,\n",
       "          2.46000000e+02,   4.00000000e+00,   2.10000000e+01,\n",
       "          8.00000000e+00,   2.94200000e+03,   4.75500000e+03,\n",
       "          1.59000000e+02,   3.00000000e+00,   5.16100000e+03,\n",
       "          8.22900000e+03,   9.13100000e+03]),\n",
       " array([  2.        ,   2.91304348,   3.82608696,   4.73913043,\n",
       "          5.65217391,   6.56521739,   7.47826087,   8.39130435,\n",
       "          9.30434783,  10.2173913 ,  11.13043478,  12.04347826,\n",
       "         12.95652174,  13.86956522,  14.7826087 ,  15.69565217,\n",
       "         16.60869565,  17.52173913,  18.43478261,  19.34782609,\n",
       "         20.26086957,  21.17391304,  22.08695652,  23.        ]),\n",
       " <a list of 23 Patch objects>)"
      ]
     },
     "execution_count": 6,
     "metadata": {},
     "output_type": "execute_result"
    },
    {
     "data": {
      "image/png": "[encoded data removed]",
      "text/plain": [
       "<matplotlib.figure.Figure at 0x7fc85c745750>"
      ]
     },
     "metadata": {},
     "output_type": "display_data"
    }
   ],
   "source": [
    "plt.hist(y, bins=23)"
   ]
  },
  {
   "cell_type": "code",
   "execution_count": 7,
   "metadata": {
    "collapsed": false
   },
   "outputs": [],
   "source": [
    "def creatTestData(filename, prev_dict, lag_dict):\n",
    "    with open(filename, 'r') as trainfile:\n",
    "        X = []\n",
    "        ids = []\n",
    "        for row in csv.DictReader(trainfile):\n",
    "            cust_id = row['ncodpers']\n",
    "            prev = prev_dict.get(cust_id, [0]*24)\n",
    "            lag = lag_dict.get(cust_id, [0]*24)\n",
    "            x_vars = [getColVal(row, col) for col in features]\n",
    "            X.append(x_vars+prev+lag)\n",
    "            ids.append(cust_id)\n",
    "    return np.array(X), ids\n",
    "X_test, test_ids = creatTestData('../data/input/test.csv', test_prev, test_lag)"
   ]
  },
  {
   "cell_type": "code",
   "execution_count": 8,
   "metadata": {
    "collapsed": false
   },
   "outputs": [
    {
     "name": "stderr",
     "output_type": "stream",
     "text": [
      "/usr/local/lib/python2.7/dist-packages/sklearn/cross_validation.py:44: DeprecationWarning: This module was deprecated in version 0.18 in favor of the model_selection module into which all the refactored classes and functions are moved. Also note that the interface of the new CV iterators are different from that of this module. This module will be removed in 0.20.\n",
      "  \"This module will be removed in 0.20.\", DeprecationWarning)\n"
     ]
    }
   ],
   "source": [
    "import xgboost as xgb\n",
    "\n",
    "def runXGB(train_X, train_y, params, num_rounds):\n",
    "    xgtrain = xgb.DMatrix(train_X, label=train_y)\n",
    "    model = xgb.train(params, xgtrain, num_rounds)\n",
    "    return model"
   ]
  },
  {
   "cell_type": "code",
   "execution_count": 9,
   "metadata": {
    "collapsed": false
   },
   "outputs": [
    {
     "ename": "NameError",
     "evalue": "name 'params' is not defined",
     "output_type": "error",
     "traceback": [
      "\u001b[0;31m---------------------------------------------------------------------------\u001b[0m",
      "\u001b[0;31mNameError\u001b[0m                                 Traceback (most recent call last)",
      "\u001b[0;32m<ipython-input-9-c402f294ebd6>\u001b[0m in \u001b[0;36m<module>\u001b[0;34m()\u001b[0m\n\u001b[1;32m     24\u001b[0m \u001b[0mparam\u001b[0m\u001b[0;34m[\u001b[0m\u001b[0;34m'seed'\u001b[0m\u001b[0;34m]\u001b[0m \u001b[0;34m=\u001b[0m \u001b[0;36m125\u001b[0m\u001b[0;34m\u001b[0m\u001b[0m\n\u001b[1;32m     25\u001b[0m \u001b[0mnum_rounds\u001b[0m \u001b[0;34m=\u001b[0m \u001b[0;36m190\u001b[0m\u001b[0;34m\u001b[0m\u001b[0m\n\u001b[0;32m---> 26\u001b[0;31m \u001b[0mmodel\u001b[0m \u001b[0;34m=\u001b[0m \u001b[0mrunXGB\u001b[0m\u001b[0;34m(\u001b[0m\u001b[0mX\u001b[0m\u001b[0;34m,\u001b[0m \u001b[0my\u001b[0m\u001b[0;34m,\u001b[0m \u001b[0mparams\u001b[0m\u001b[0;34m,\u001b[0m \u001b[0mnum_rounds\u001b[0m\u001b[0;34m)\u001b[0m\u001b[0;34m\u001b[0m\u001b[0m\n\u001b[0m",
      "\u001b[0;31mNameError\u001b[0m: name 'params' is not defined"
     ]
    }
   ],
   "source": [
    "# params = {'objective': 'multi:softprob',\n",
    "#          'eta': 0.051,\n",
    "#          'max_depth': 6,\n",
    "#          'silent': 0,\n",
    "#          'num_class': 24,\n",
    "#          'eval_metric': \"mlogloss\",\n",
    "#          'min_child_weight': 2.05,\n",
    "#          'subsample': 0.92,\n",
    "#          'gamma': 0.65,\n",
    "#          'colsample_bytree': 0.9,\n",
    "#          'seed': 123\n",
    "#          }\n",
    "# num_rounds = 115\n",
    "param = {}\n",
    "param['objective'] = 'multi:softprob'\n",
    "param['eta'] = 0.05\n",
    "param['max_depth'] = 4\n",
    "param['silent'] = 1\n",
    "param['num_class'] = 22\n",
    "param['eval_metric'] = \"mlogloss\"\n",
    "param['min_child_weight'] = 2\n",
    "param['subsample'] = 0.9\n",
    "param['colsample_bytree'] = 0.9\n",
    "param['seed'] = 125\n",
    "num_rounds = 190\n",
    "model = runXGB(X, y, param, num_rounds)"
   ]
  },
  {
   "cell_type": "code",
   "execution_count": null,
   "metadata": {
    "collapsed": false
   },
   "outputs": [],
   "source": [
    "def predictProduct(model, X_test):\n",
    "    Xtest = xgb.DMatrix(X_test)\n",
    "    y_pred = model.predict(Xtest)\n",
    "    y_pred = np.argsort(y_pred, axis=1)\n",
    "    y_pred = np.fliplr(y_pred)[:,:8]\n",
    "    return y_pred\n",
    "\n",
    "y_pred = predictProduct(model, X_test)"
   ]
  },
  {
   "cell_type": "code",
   "execution_count": null,
   "metadata": {
    "collapsed": false
   },
   "outputs": [],
   "source": [
    "y_pred[0]"
   ]
  },
  {
   "cell_type": "code",
   "execution_count": null,
   "metadata": {
    "collapsed": false
   },
   "outputs": [],
   "source": [
    "feature_importce = model.get_fscore().values()"
   ]
  },
  {
   "cell_type": "code",
   "execution_count": null,
   "metadata": {
    "collapsed": false
   },
   "outputs": [],
   "source": [
    "np.argsort(feature_importce)[::-1][:20]"
   ]
  },
  {
   "cell_type": "code",
   "execution_count": null,
   "metadata": {
    "collapsed": false
   },
   "outputs": [],
   "source": [
    "outputfile = '../data/output/sub_xgb_{}.csv'.format(datetime.now().strftime(\"%Y-%m-%d-%H-%M\"))\n",
    "with open(outputfile, 'w+') as f:\n",
    "    f.write('added_products,ncodpers\\n')\n",
    "    for pred, idx in zip(y_pred, test_ids):\n",
    "        line = \" \".join(list(np.array(target_cols)[pred]))\n",
    "        f.write(line)\n",
    "        f.write(',')\n",
    "        f.write(str(idx))\n",
    "        f.write('\\n')"
   ]
  },
  {
   "cell_type": "code",
   "execution_count": null,
   "metadata": {
    "collapsed": true
   },
   "outputs": [],
   "source": []
  }
 ],
 "metadata": {
  "kernelspec": {
   "display_name": "Python 2",
   "language": "python",
   "name": "python2"
  },
  "language_info": {
   "codemirror_mode": {
    "name": "ipython",
    "version": 2
   },
   "file_extension": ".py",
   "mimetype": "text/x-python",
   "name": "python",
   "nbconvert_exporter": "python",
   "pygments_lexer": "ipython2",
   "version": "2.7.12"
  }
 },
 "nbformat": 4,
 "nbformat_minor": 1
}
