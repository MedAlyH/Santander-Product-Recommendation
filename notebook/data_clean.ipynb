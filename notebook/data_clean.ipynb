{
 "cells": [
  {
   "cell_type": "code",
   "execution_count": 2,
   "metadata": {
    "collapsed": false
   },
   "outputs": [],
   "source": [
    "%matplotlib inline\n",
    "import pandas as pd\n",
    "import numpy as np\n",
    "import matplotlib.pyplot as plt\n",
    "import os\n",
    "plt.style.use('ggplot')\n",
    "\n",
    "path = '../data/input'\n",
    "train_file = 'train_ver2.csv'\n",
    "test_file = 'test_ver2.csv'"
   ]
  },
  {
   "cell_type": "code",
   "execution_count": 35,
   "metadata": {
    "collapsed": false
   },
   "outputs": [],
   "source": [
    "train = pd.read_csv(os.path.join(path, train_file), dtype={\"sexo\": str,\n",
    "                                                           \"ind_nuevo\": str,\n",
    "                                                           \"indext\": str\n",
    "                                                            },\n",
    "                    skipinitialspace=True)"
   ]
  },
  {
   "cell_type": "code",
   "execution_count": 36,
   "metadata": {
    "collapsed": false
   },
   "outputs": [
    {
     "name": "stdout",
     "output_type": "stream",
     "text": [
      "<class 'pandas.core.frame.DataFrame'>\n",
      "RangeIndex: 13647309 entries, 0 to 13647308\n",
      "Data columns (total 48 columns):\n",
      "fecha_dato               object\n",
      "ncodpers                 int64\n",
      "ind_empleado             object\n",
      "pais_residencia          object\n",
      "sexo                     object\n",
      "age                      float64\n",
      "fecha_alta               object\n",
      "ind_nuevo                object\n",
      "antiguedad               float64\n",
      "indrel                   float64\n",
      "ult_fec_cli_1t           object\n",
      "indrel_1mes              object\n",
      "tiprel_1mes              object\n",
      "indresi                  object\n",
      "indext                   object\n",
      "conyuemp                 object\n",
      "canal_entrada            object\n",
      "indfall                  object\n",
      "tipodom                  float64\n",
      "cod_prov                 float64\n",
      "nomprov                  object\n",
      "ind_actividad_cliente    float64\n",
      "renta                    float64\n",
      "segmento                 object\n",
      "ind_ahor_fin_ult1        int64\n",
      "ind_aval_fin_ult1        int64\n",
      "ind_cco_fin_ult1         int64\n",
      "ind_cder_fin_ult1        int64\n",
      "ind_cno_fin_ult1         int64\n",
      "ind_ctju_fin_ult1        int64\n",
      "ind_ctma_fin_ult1        int64\n",
      "ind_ctop_fin_ult1        int64\n",
      "ind_ctpp_fin_ult1        int64\n",
      "ind_deco_fin_ult1        int64\n",
      "ind_deme_fin_ult1        int64\n",
      "ind_dela_fin_ult1        int64\n",
      "ind_ecue_fin_ult1        int64\n",
      "ind_fond_fin_ult1        int64\n",
      "ind_hip_fin_ult1         int64\n",
      "ind_plan_fin_ult1        int64\n",
      "ind_pres_fin_ult1        int64\n",
      "ind_reca_fin_ult1        int64\n",
      "ind_tjcr_fin_ult1        int64\n",
      "ind_valo_fin_ult1        int64\n",
      "ind_viv_fin_ult1         int64\n",
      "ind_nomina_ult1          float64\n",
      "ind_nom_pens_ult1        float64\n",
      "ind_recibo_ult1          int64\n",
      "dtypes: float64(9), int64(23), object(16)\n",
      "memory usage: 4.9+ GB\n"
     ]
    }
   ],
   "source": [
    "train.info()"
   ]
  },
  {
   "cell_type": "code",
   "execution_count": 37,
   "metadata": {
    "collapsed": false
   },
   "outputs": [
    {
     "name": "stdout",
     "output_type": "stream",
     "text": [
      "13647309 rows, 48 columns\n",
      "------------------------------\n",
      "fecha_dato            \t\tobject\t\t0\n",
      "ncodpers              \t\tint64\t\t0\n",
      "ind_empleado          \t\tobject\t\t27734\n",
      "pais_residencia       \t\tobject\t\t27734\n",
      "sexo                  \t\tobject\t\t27804\n",
      "age                   \t\tfloat64\t\t27734\n",
      "fecha_alta            \t\tobject\t\t27734\n",
      "ind_nuevo             \t\tobject\t\t27734\n",
      "antiguedad            \t\tfloat64\t\t27734\n",
      "indrel                \t\tfloat64\t\t27734\n",
      "ult_fec_cli_1t        \t\tobject\t\t13622516\n",
      "indrel_1mes           \t\tobject\t\t149781\n",
      "tiprel_1mes           \t\tobject\t\t149781\n",
      "indresi               \t\tobject\t\t27734\n",
      "indext                \t\tobject\t\t27734\n",
      "conyuemp              \t\tobject\t\t13645501\n",
      "canal_entrada         \t\tobject\t\t186126\n",
      "indfall               \t\tobject\t\t27734\n",
      "tipodom               \t\tfloat64\t\t27735\n",
      "cod_prov              \t\tfloat64\t\t93591\n",
      "nomprov               \t\tobject\t\t93591\n",
      "ind_actividad_cliente \t\tfloat64\t\t27734\n",
      "renta                 \t\tfloat64\t\t2794375\n",
      "segmento              \t\tobject\t\t189368\n",
      "ind_ahor_fin_ult1     \t\tint64\t\t0\n",
      "ind_aval_fin_ult1     \t\tint64\t\t0\n",
      "ind_cco_fin_ult1      \t\tint64\t\t0\n",
      "ind_cder_fin_ult1     \t\tint64\t\t0\n",
      "ind_cno_fin_ult1      \t\tint64\t\t0\n",
      "ind_ctju_fin_ult1     \t\tint64\t\t0\n",
      "ind_ctma_fin_ult1     \t\tint64\t\t0\n",
      "ind_ctop_fin_ult1     \t\tint64\t\t0\n",
      "ind_ctpp_fin_ult1     \t\tint64\t\t0\n",
      "ind_deco_fin_ult1     \t\tint64\t\t0\n",
      "ind_deme_fin_ult1     \t\tint64\t\t0\n",
      "ind_dela_fin_ult1     \t\tint64\t\t0\n",
      "ind_ecue_fin_ult1     \t\tint64\t\t0\n",
      "ind_fond_fin_ult1     \t\tint64\t\t0\n",
      "ind_hip_fin_ult1      \t\tint64\t\t0\n",
      "ind_plan_fin_ult1     \t\tint64\t\t0\n",
      "ind_pres_fin_ult1     \t\tint64\t\t0\n",
      "ind_reca_fin_ult1     \t\tint64\t\t0\n",
      "ind_tjcr_fin_ult1     \t\tint64\t\t0\n",
      "ind_valo_fin_ult1     \t\tint64\t\t0\n",
      "ind_viv_fin_ult1      \t\tint64\t\t0\n",
      "ind_nomina_ult1       \t\tfloat64\t\t16063\n",
      "ind_nom_pens_ult1     \t\tfloat64\t\t16063\n",
      "ind_recibo_ult1       \t\tint64\t\t0\n"
     ]
    }
   ],
   "source": [
    "print '{} rows, {} columns'.format(train.shape[0], train.shape[1])\n",
    "print '-'*30\n",
    "for col, tp, cnt in zip(train.columns, train.dtypes, train.isnull().sum(axis=0)):\n",
    "    print '{:22s}\\t\\t{}\\t\\t{}'.format(col, tp, cnt)"
   ]
  },
  {
   "cell_type": "code",
   "execution_count": 38,
   "metadata": {
    "collapsed": false
   },
   "outputs": [
    {
     "data": {
      "text/plain": [
       "array([1.0, nan, 3.0, 2.0, '1.0', '1', '3', '3.0', '2.0', '4.0', 'P', '4',\n",
       "       4.0, '2'], dtype=object)"
      ]
     },
     "execution_count": 38,
     "metadata": {},
     "output_type": "execute_result"
    }
   ],
   "source": [
    "train['indrel_1mes'].unique()"
   ]
  },
  {
   "cell_type": "code",
   "execution_count": 39,
   "metadata": {
    "collapsed": false
   },
   "outputs": [],
   "source": [
    "def clean_indrel_lmes(arr):\n",
    "    arr = arr.fillna(-1)\n",
    "    for i, item in enumerate(arr):\n",
    "        if item == 'P':\n",
    "            arr[i] = 5\n",
    "    arr = pd.to_numeric(arr)\n",
    "    arr = arr.astype(int)\n",
    "    return arr\n",
    "train['indrel_1mes'] = clean_indrel_lmes(train['indrel_1mes'])"
   ]
  },
  {
   "cell_type": "code",
   "execution_count": 40,
   "metadata": {
    "collapsed": false
   },
   "outputs": [
    {
     "data": {
      "text/plain": [
       "array([ 1, -1,  3,  2,  4,  5])"
      ]
     },
     "execution_count": 40,
     "metadata": {},
     "output_type": "execute_result"
    }
   ],
   "source": [
    "train['indrel_1mes'].unique()"
   ]
  },
  {
   "cell_type": "code",
   "execution_count": 41,
   "metadata": {
    "collapsed": false
   },
   "outputs": [
    {
     "data": {
      "text/plain": [
       "array(['N', nan, 'A', 'B', 'F', 'S'], dtype=object)"
      ]
     },
     "execution_count": 41,
     "metadata": {},
     "output_type": "execute_result"
    }
   ],
   "source": [
    "train['ind_empleado'].unique()"
   ]
  },
  {
   "cell_type": "code",
   "execution_count": 43,
   "metadata": {
    "collapsed": false
   },
   "outputs": [
    {
     "data": {
      "text/plain": [
       "array([-1])"
      ]
     },
     "execution_count": 43,
     "metadata": {},
     "output_type": "execute_result"
    }
   ],
   "source": [
    "def clean_ind_empleado(arr):\n",
    "    mapping_ind_empleado = {'N':1, 'B':2, 'F':3, 'A':4, 'S':5}\n",
    "    arr = arr.apply(lambda x: mapping_ind_empleado[x] if x in mapping_ind_empleado else -1)\n",
    "    return arr\n",
    "train['ind_empleado'] = clean_ind_empleado(train['ind_empleado'])\n",
    "train['ind_empleado'].unique()"
   ]
  },
  {
   "cell_type": "code",
   "execution_count": 44,
   "metadata": {
    "collapsed": false
   },
   "outputs": [
    {
     "data": {
      "text/plain": [
       "array(['ES', nan, 'CA', 'CH', 'CL', 'IE', 'AT', 'NL', 'FR', 'GB', 'DE',\n",
       "       'DO', 'BE', 'AR', 'VE', 'US', 'MX', 'BR', 'IT', 'EC', 'PE', 'CO',\n",
       "       'HN', 'FI', 'SE', 'AL', 'PT', 'MZ', 'CN', 'TW', 'PL', 'IN', 'CR',\n",
       "       'NI', 'HK', 'AD', 'CZ', 'AE', 'MA', 'GR', 'PR', 'RO', 'IL', 'RU',\n",
       "       'GT', 'GA', 'NO', 'SN', 'MR', 'UA', 'BG', 'PY', 'EE', 'SV', 'ET',\n",
       "       'CM', 'SA', 'CI', 'QA', 'LU', 'PA', 'BA', 'BO', 'AU', 'BY', 'KE',\n",
       "       'SG', 'HR', 'MD', 'SK', 'TR', 'AO', 'CU', 'GQ', 'EG', 'ZA', 'DK',\n",
       "       'UY', 'GE', 'TH', 'DZ', 'LB', 'JP', 'NG', 'PK', 'TN', 'TG', 'KR',\n",
       "       'GH', 'RS', 'VN', 'PH', 'KW', 'NZ', 'MM', 'KH', 'GI', 'SL', 'GN',\n",
       "       'GW', 'OM', 'CG', 'LV', 'LT', 'ML', 'MK', 'HU', 'IS', 'LY', 'CF',\n",
       "       'GM', 'KZ', 'CD', 'BZ', 'ZW', 'DJ', 'JM', 'BM', 'MT'], dtype=object)"
      ]
     },
     "execution_count": 44,
     "metadata": {},
     "output_type": "execute_result"
    }
   ],
   "source": [
    "train['pais_residencia'].unique()"
   ]
  },
  {
   "cell_type": "code",
   "execution_count": 45,
   "metadata": {
    "collapsed": false
   },
   "outputs": [
    {
     "data": {
      "text/plain": [
       "array([  1,  -1,   2,   3,   4,   5,   6,   7,   8,   9,  10,  11,  12,\n",
       "        13,  14,  15,  16,  17,  18,  19,  20,  21,  22,  23,  24,  25,\n",
       "        26,  27,  28,  29,  30,  31,  32,  33,  34,  35,  36,  37,  38,\n",
       "        39,  40,  41,  42,  43,  44,  45,  46,  47,  48,  49,  50,  51,\n",
       "        52,  53,  54,  55,  56,  57,  58,  59,  60,  61,  62,  63,  64,\n",
       "        65,  66,  67,  68,  69,  70,  71,  72,  73,  74,  75,  76,  77,\n",
       "        78,  79,  80,  81,  82,  83,  84,  85,  86,  87,  88,  89,  90,\n",
       "        91,  92,  93,  94,  95,  96,  97,  98,  99, 100, 101, 102, 103,\n",
       "       104, 105, 106, 107, 108, 109, 110, 111, 112, 113, 114, 115, 116,\n",
       "       117, 118])"
      ]
     },
     "execution_count": 45,
     "metadata": {},
     "output_type": "execute_result"
    }
   ],
   "source": [
    "def clean_pais(arr):\n",
    "    mapping_pais = {'LV': 102, 'BE': 12, 'BG': 50, 'BA': 61, 'BM': 117, 'BO': 62,\n",
    "                    'JP': 82, 'JM': 116, 'BR': 17, 'BY': 64, 'BZ': 113, 'RU': 43,\n",
    "                    'RS': 89, 'RO': 41, 'GW': 99, 'GT': 44, 'GR': 39, 'GQ': 73,\n",
    "                    'GE': 78, 'GB': 9, 'GA': 45, 'GN': 98, 'GM': 110, 'GI': 96,\n",
    "                    'GH': 88, 'OM': 100, 'HR': 67, 'HU': 106, 'HK': 34, 'HN': 22,\n",
    "                    'AD': 35, 'PR': 40, 'PT': 26, 'PY': 51, 'PA': 60, 'PE': 20,\n",
    "                    'PK': 84, 'PH': 91, 'PL': 30, 'EE': 52, 'EG': 74, 'ZA': 75,\n",
    "                    'EC': 19, 'AL': 25, 'VN': 90, 'ET': 54, 'ZW': 114, 'ES': 1,\n",
    "                    'MD': 68, 'UY': 77, 'MM': 94, 'ML': 104, 'US': 15, 'MT': 118,\n",
    "                    'MR': 48, 'UA': 49, 'MX': 16, 'IL': 42, 'FR': 8, 'MA': 38,\n",
    "                    'FI': 23, 'NI': 33, 'NL': 7, 'NO': 46, 'NG': 83, 'NZ': 93,\n",
    "                    'CI': 57, 'CH': 3, 'CO': 21, 'CN': 28, 'CM': 55, 'CL': 4,\n",
    "                    'CA': 2, 'CG': 101, 'CF': 109, 'CD': 112, 'CZ': 36, 'CR': 32,\n",
    "                    'CU': 72, 'KE': 65, 'KH': 95, 'SV': 53, 'SK': 69, 'KR': 87,\n",
    "                    'KW': 92, 'SN': 47, 'SL': 97, 'KZ': 111, 'SA': 56, 'SG': 66,\n",
    "                    'SE': 24, 'DO': 11, 'DJ': 115, 'DK': 76, 'DE': 10, 'DZ': 80,\n",
    "                    'LT': 103, 'LU': 59, 'TH': 79, 'TG': 86, 'LY': 108, 'AE': 37,\n",
    "                    'VE': 14, 'IS': 107, 'IT': 18, 'AO': 71, 'AR': 13, 'AU': 63,\n",
    "                    'AT': 6, 'IN': 31, 'IE': 5, 'QA': 58, 'MZ': 27, 'MK': 105,\n",
    "                    'LB': 81, 'TW': 29, 'TR': 70, 'TN': 85\n",
    "                    }\n",
    "    arr = arr.apply(lambda x: mapping_pais[x] if x in mapping_pais else -1)\n",
    "    return arr\n",
    "train['pais_residencia'] = clean_pais(train['pais_residencia'])\n",
    "train['pais_residencia'].unique()"
   ]
  },
  {
   "cell_type": "code",
   "execution_count": 46,
   "metadata": {
    "collapsed": false
   },
   "outputs": [
    {
     "data": {
      "text/plain": [
       "array(['H', 'V', nan], dtype=object)"
      ]
     },
     "execution_count": 46,
     "metadata": {},
     "output_type": "execute_result"
    }
   ],
   "source": [
    "train['sexo'].unique()"
   ]
  },
  {
   "cell_type": "code",
   "execution_count": 47,
   "metadata": {
    "collapsed": false
   },
   "outputs": [
    {
     "data": {
      "text/plain": [
       "array([ 1,  2, -1])"
      ]
     },
     "execution_count": 47,
     "metadata": {},
     "output_type": "execute_result"
    }
   ],
   "source": [
    "def clean_sexo(arr):\n",
    "    mapping_dict = {'H': 1, 'V':2}\n",
    "    arr = arr.apply(lambda x: mapping_dict.get(x, -1))\n",
    "    return arr\n",
    "train['sexo'] = clean_sexo(train['sexo'])\n",
    "train['sexo'].unique()"
   ]
  },
  {
   "cell_type": "code",
   "execution_count": 49,
   "metadata": {
    "collapsed": false
   },
   "outputs": [
    {
     "data": {
      "text/plain": [
       "array([  35.,   23.,   22.,   24.,   65.,   28.,   25.,   26.,   53.,\n",
       "         27.,   32.,   37.,   31.,   39.,   63.,   33.,   55.,   42.,\n",
       "         58.,   38.,   50.,   30.,   45.,   44.,   36.,   29.,   60.,\n",
       "         57.,   67.,   47.,   nan,   34.,   48.,   46.,   54.,   84.,\n",
       "         15.,   12.,    8.,    6.,   83.,   40.,   77.,   69.,   52.,\n",
       "         59.,   43.,   10.,    9.,   49.,   41.,   51.,   78.,   16.,\n",
       "         11.,   73.,   62.,   66.,   17.,   68.,   82.,   95.,   96.,\n",
       "         56.,   61.,   79.,   72.,   14.,   19.,   13.,   86.,   64.,\n",
       "         20.,   89.,   71.,    7.,   70.,   74.,   21.,   18.,   75.,\n",
       "          4.,   80.,   81.,    5.,   76.,   92.,   93.,   85.,   91.,\n",
       "         87.,   90.,   94.,   99.,   98.,   88.,   97.,  100.,  101.,\n",
       "        106.,  103.,    3.,    2.,  102.,  104.,  111.,  107.,  109.,\n",
       "        105.,  112.,  115.,  110.,  116.,  108.,  113.,  126.,  117.,\n",
       "        163.,  127.,  114.,  164.])"
      ]
     },
     "execution_count": 49,
     "metadata": {},
     "output_type": "execute_result"
    }
   ],
   "source": [
    "train['age'].unique()"
   ]
  },
  {
   "cell_type": "code",
   "execution_count": 52,
   "metadata": {
    "collapsed": false
   },
   "outputs": [
    {
     "data": {
      "text/plain": [
       "0"
      ]
     },
     "execution_count": 52,
     "metadata": {},
     "output_type": "execute_result"
    }
   ],
   "source": [
    "train['age'].isnull().sum()"
   ]
  },
  {
   "cell_type": "code",
   "execution_count": 53,
   "metadata": {
    "collapsed": false
   },
   "outputs": [
    {
     "data": {
      "text/plain": [
       "0"
      ]
     },
     "execution_count": 53,
     "metadata": {},
     "output_type": "execute_result"
    }
   ],
   "source": [
    "train['age'] = train['age'].fillna(-1)\n",
    "train['age'] = train['age'].astype(int)\n",
    "train['age'].isnull().sum()"
   ]
  },
  {
   "cell_type": "code",
   "execution_count": 54,
   "metadata": {
    "collapsed": false
   },
   "outputs": [
    {
     "name": "stdout",
     "output_type": "stream",
     "text": [
      "min age:  -1\n",
      "max age:  164\n"
     ]
    }
   ],
   "source": [
    "print 'min age: ', train['age'].min()\n",
    "print 'max age: ', train['age'].max()"
   ]
  },
  {
   "cell_type": "code",
   "execution_count": 61,
   "metadata": {
    "collapsed": false
   },
   "outputs": [
    {
     "data": {
      "text/plain": [
       "array([  6.00000000e+00,   3.50000000e+01,   3.40000000e+01,\n",
       "        -1.00000000e+00,   3.30000000e+01,   3.10000000e+01,\n",
       "         2.10000000e+01,   1.60000000e+01,   2.70000000e+01,\n",
       "         9.00000000e+00,   2.20000000e+01,   1.30000000e+01,\n",
       "         2.90000000e+01,   8.00000000e+00,   1.10000000e+01,\n",
       "         1.00000000e+01,   2.80000000e+01,   2.40000000e+01,\n",
       "         7.00000000e+00,   2.50000000e+01,   1.40000000e+01,\n",
       "         2.60000000e+01,   1.20000000e+01,   2.30000000e+01,\n",
       "         1.00000000e+00,   1.80000000e+01,   4.00000000e+00,\n",
       "         3.00000000e+00,   1.70000000e+01,   3.20000000e+01,\n",
       "         3.00000000e+01,   2.00000000e+01,   1.50000000e+01,\n",
       "         1.90000000e+01,   1.57000000e+02,   3.60000000e+01,\n",
       "         5.00000000e+00,   4.00000000e+01,   3.80000000e+01,\n",
       "         3.70000000e+01,   3.90000000e+01,   0.00000000e+00,\n",
       "         2.00000000e+00,   4.70000000e+01,   4.40000000e+01,\n",
       "         4.20000000e+01,   4.60000000e+01,   4.50000000e+01,\n",
       "         4.30000000e+01,   4.10000000e+01,   5.70000000e+01,\n",
       "         4.80000000e+01,   5.20000000e+01,   4.90000000e+01,\n",
       "         5.00000000e+01,   5.60000000e+01,   5.80000000e+01,\n",
       "         5.10000000e+01,   5.50000000e+01,   5.40000000e+01,\n",
       "         5.30000000e+01,   5.90000000e+01,   6.20000000e+01,\n",
       "         6.10000000e+01,   6.00000000e+01,   6.30000000e+01,\n",
       "         1.39000000e+02,   1.65000000e+02,   1.18000000e+02,\n",
       "         1.64000000e+02,   1.42000000e+02,   9.40000000e+01,\n",
       "         1.59000000e+02,   1.43000000e+02,   1.05000000e+02,\n",
       "         1.51000000e+02,   1.62000000e+02,   1.37000000e+02,\n",
       "         1.50000000e+02,   1.28000000e+02,   1.22000000e+02,\n",
       "         1.56000000e+02,   1.19000000e+02,   1.60000000e+02,\n",
       "         7.90000000e+01,   9.50000000e+01,   1.32000000e+02,\n",
       "         1.61000000e+02,   9.80000000e+01,   1.27000000e+02,\n",
       "         7.20000000e+01,   1.55000000e+02,   1.08000000e+02,\n",
       "         1.63000000e+02,   1.02000000e+02,   1.48000000e+02,\n",
       "         1.15000000e+02,   1.46000000e+02,   1.07000000e+02,\n",
       "         8.10000000e+01,   2.16000000e+02,   1.35000000e+02,\n",
       "         9.20000000e+01,   1.21000000e+02,   1.98000000e+02,\n",
       "         1.34000000e+02,   9.30000000e+01,   1.40000000e+02,\n",
       "         1.10000000e+02,   1.20000000e+02,   1.47000000e+02,\n",
       "         1.16000000e+02,   6.40000000e+01,   7.70000000e+01,\n",
       "         8.50000000e+01,   9.90000000e+01,   7.80000000e+01,\n",
       "         1.00000000e+02,   1.13000000e+02,   1.54000000e+02,\n",
       "         1.66000000e+02,   1.33000000e+02,   1.24000000e+02,\n",
       "         1.41000000e+02,   6.60000000e+01,   1.17000000e+02,\n",
       "         8.60000000e+01,   1.93000000e+02,   8.00000000e+01,\n",
       "         1.44000000e+02,   8.70000000e+01,   1.26000000e+02,\n",
       "         1.58000000e+02,   1.01000000e+02,   2.35000000e+02,\n",
       "         8.80000000e+01,   1.45000000e+02,   1.03000000e+02,\n",
       "         1.49000000e+02,   1.09000000e+02,   1.31000000e+02,\n",
       "         9.70000000e+01,   6.80000000e+01,   8.40000000e+01,\n",
       "         2.32000000e+02,   1.25000000e+02,   1.77000000e+02,\n",
       "         1.12000000e+02,   9.60000000e+01,   6.90000000e+01,\n",
       "         1.71000000e+02,   1.67000000e+02,   1.04000000e+02,\n",
       "         7.60000000e+01,   8.20000000e+01,   1.52000000e+02,\n",
       "         7.00000000e+01,   1.38000000e+02,   1.69000000e+02,\n",
       "         6.50000000e+01,   1.29000000e+02,   1.90000000e+02,\n",
       "         1.14000000e+02,   1.11000000e+02,   1.76000000e+02,\n",
       "         1.53000000e+02,   8.90000000e+01,   1.36000000e+02,\n",
       "         8.30000000e+01,   1.23000000e+02,   1.87000000e+02,\n",
       "         1.06000000e+02,   2.31000000e+02,   1.89000000e+02,\n",
       "         2.17000000e+02,   1.72000000e+02,   1.99000000e+02,\n",
       "         1.73000000e+02,   1.74000000e+02,   2.09000000e+02,\n",
       "         1.80000000e+02,   1.78000000e+02,   9.10000000e+01,\n",
       "         1.68000000e+02,   1.30000000e+02,   2.25000000e+02,\n",
       "         6.70000000e+01,   7.30000000e+01,   1.83000000e+02,\n",
       "         7.40000000e+01,   2.06000000e+02,   7.10000000e+01,\n",
       "         1.79000000e+02,   1.84000000e+02,   1.92000000e+02,\n",
       "         9.00000000e+01,   1.94000000e+02,   1.82000000e+02,\n",
       "         1.88000000e+02,   2.13000000e+02,   1.85000000e+02,\n",
       "         1.95000000e+02,   1.86000000e+02,   2.07000000e+02,\n",
       "         2.08000000e+02,   7.50000000e+01,   1.75000000e+02,\n",
       "         2.01000000e+02,   2.03000000e+02,   2.12000000e+02,\n",
       "         2.15000000e+02,   1.70000000e+02,   2.28000000e+02,\n",
       "         2.14000000e+02,   2.02000000e+02,   1.96000000e+02,\n",
       "         1.81000000e+02,   2.11000000e+02,   1.91000000e+02,\n",
       "         2.05000000e+02,   2.00000000e+02,   2.27000000e+02,\n",
       "         2.18000000e+02,   2.19000000e+02,   2.26000000e+02,\n",
       "         2.24000000e+02,   2.10000000e+02,   2.42000000e+02,\n",
       "         2.23000000e+02,   2.37000000e+02,   2.04000000e+02,\n",
       "         2.33000000e+02,   2.20000000e+02,   2.22000000e+02,\n",
       "         2.41000000e+02,   1.97000000e+02,   2.21000000e+02,\n",
       "         2.29000000e+02,   2.34000000e+02,   2.40000000e+02,\n",
       "         2.43000000e+02,   2.30000000e+02,   2.38000000e+02,\n",
       "         2.46000000e+02,   2.36000000e+02,   2.44000000e+02,\n",
       "         2.39000000e+02,   2.45000000e+02,  -9.99999000e+05,\n",
       "         2.47000000e+02,   2.48000000e+02,   2.49000000e+02,\n",
       "         2.50000000e+02,   2.51000000e+02,   2.52000000e+02,\n",
       "         2.53000000e+02,   2.54000000e+02,   2.55000000e+02,\n",
       "         2.56000000e+02])"
      ]
     },
     "execution_count": 61,
     "metadata": {},
     "output_type": "execute_result"
    }
   ],
   "source": [
    "train['antiguedad'] = train['antiguedad'].fillna(-1)\n",
    "train['antiguedad'].unique()"
   ]
  },
  {
   "cell_type": "code",
   "execution_count": 62,
   "metadata": {
    "collapsed": false
   },
   "outputs": [
    {
     "data": {
      "text/plain": [
       "array(['0', nan, '1'], dtype=object)"
      ]
     },
     "execution_count": 62,
     "metadata": {},
     "output_type": "execute_result"
    }
   ],
   "source": [
    "train['ind_nuevo'].unique()"
   ]
  },
  {
   "cell_type": "code",
   "execution_count": 64,
   "metadata": {
    "collapsed": false
   },
   "outputs": [
    {
     "data": {
      "text/plain": [
       "array([ 0, -1,  1])"
      ]
     },
     "execution_count": 64,
     "metadata": {},
     "output_type": "execute_result"
    }
   ],
   "source": [
    "train['ind_nuevo'] = train['ind_nuevo'].fillna(-1)\n",
    "train['ind_nuevo'] = train['ind_nuevo'].astype(int)\n",
    "train['ind_nuevo'].unique()"
   ]
  },
  {
   "cell_type": "code",
   "execution_count": 66,
   "metadata": {
    "collapsed": false
   },
   "outputs": [
    {
     "data": {
      "text/plain": [
       "array([  1.,  nan,  99.])"
      ]
     },
     "execution_count": 66,
     "metadata": {},
     "output_type": "execute_result"
    }
   ],
   "source": [
    "train['indrel'].unique()"
   ]
  },
  {
   "cell_type": "code",
   "execution_count": 67,
   "metadata": {
    "collapsed": false
   },
   "outputs": [
    {
     "data": {
      "text/plain": [
       "array([ 1, -1, 99])"
      ]
     },
     "execution_count": 67,
     "metadata": {},
     "output_type": "execute_result"
    }
   ],
   "source": [
    "train['indrel'] = train['indrel'].fillna(-1)\n",
    "train['indrel'] = train['indrel'].astype(int)\n",
    "train['indrel'].unique()"
   ]
  },
  {
   "cell_type": "code",
   "execution_count": 68,
   "metadata": {
    "collapsed": false
   },
   "outputs": [
    {
     "data": {
      "text/plain": [
       "array([nan, '2015-07-02', '2015-07-23', '2015-07-06', '2015-07-30',\n",
       "       '2015-07-20', '2015-07-08', '2015-07-22', '2015-07-17',\n",
       "       '2015-07-09', '2015-07-03', '2015-07-29', '2015-07-13',\n",
       "       '2015-07-21', '2015-07-27', '2015-07-14', '2015-07-01',\n",
       "       '2015-07-24', '2015-07-15', '2015-07-16', '2015-07-28',\n",
       "       '2015-07-07', '2015-07-10', '2015-08-21', '2015-08-19',\n",
       "       '2015-08-25', '2015-08-14', '2015-08-24', '2015-08-17',\n",
       "       '2015-08-18', '2015-08-10', '2015-08-13', '2015-08-27',\n",
       "       '2015-08-03', '2015-08-06', '2015-08-20', '2015-08-26',\n",
       "       '2015-08-28', '2015-08-05', '2015-08-11', '2015-08-07',\n",
       "       '2015-08-04', '2015-08-12', '2015-09-17', '2015-09-01',\n",
       "       '2015-09-18', '2015-09-03', '2015-09-02', '2015-09-14',\n",
       "       '2015-09-16', '2015-09-29', '2015-09-28', '2015-09-09',\n",
       "       '2015-09-22', '2015-09-08', '2015-09-11', '2015-09-21',\n",
       "       '2015-09-04', '2015-09-25', '2015-09-07', '2015-09-10',\n",
       "       '2015-09-23', '2015-09-24', '2015-09-15', '2015-10-08',\n",
       "       '2015-10-07', '2015-10-13', '2015-10-26', '2015-10-29',\n",
       "       '2015-10-05', '2015-10-28', '2015-10-09', '2015-10-22',\n",
       "       '2015-10-20', '2015-10-15', '2015-10-06', '2015-10-01',\n",
       "       '2015-10-21', '2015-10-16', '2015-10-27', '2015-10-19',\n",
       "       '2015-10-23', '2015-10-02', '2015-10-14', '2015-11-23',\n",
       "       '2015-11-24', '2015-11-12', '2015-11-04', '2015-11-13',\n",
       "       '2015-11-25', '2015-11-19', '2015-11-20', '2015-11-03',\n",
       "       '2015-11-16', '2015-11-17', '2015-11-11', '2015-11-27',\n",
       "       '2015-11-18', '2015-11-10', '2015-11-26', '2015-11-02',\n",
       "       '2015-11-05', '2015-11-06', '2015-11-09', '2015-12-21',\n",
       "       '2015-12-18', '2015-12-28', '2015-12-24', '2015-12-04',\n",
       "       '2015-12-29', '2015-12-16', '2015-12-11', '2015-12-30',\n",
       "       '2015-12-15', '2015-12-01', '2015-12-09', '2015-12-10',\n",
       "       '2015-12-17', '2015-12-02', '2015-12-14', '2015-12-03',\n",
       "       '2015-12-22', '2015-12-23', '2015-12-07', '2016-01-08',\n",
       "       '2016-01-14', '2016-01-13', '2016-01-28', '2016-01-05',\n",
       "       '2016-01-19', '2016-01-12', '2016-01-18', '2016-01-21',\n",
       "       '2016-01-22', '2016-01-07', '2016-01-20', '2016-01-26',\n",
       "       '2016-01-15', '2016-01-27', '2016-01-25', '2016-01-11',\n",
       "       '2016-01-04', '2016-02-23', '2016-02-19', '2016-02-18',\n",
       "       '2016-02-26', '2016-02-12', '2016-02-24', '2016-02-09',\n",
       "       '2016-02-08', '2016-02-11', '2016-02-05', '2016-02-04',\n",
       "       '2016-02-03', '2016-02-15', '2016-02-22', '2016-02-10',\n",
       "       '2016-02-16', '2016-02-01', '2016-02-17', '2016-02-02',\n",
       "       '2016-02-25', '2016-03-07', '2016-03-29', '2016-03-10',\n",
       "       '2016-03-18', '2016-03-14', '2016-03-22', '2016-03-08',\n",
       "       '2016-03-21', '2016-03-30', '2016-03-01', '2016-03-23',\n",
       "       '2016-03-02', '2016-03-24', '2016-03-03', '2016-03-09',\n",
       "       '2016-03-11', '2016-03-04', '2016-03-16', '2016-03-28',\n",
       "       '2016-03-15', '2016-03-17', '2016-04-22', '2016-04-01',\n",
       "       '2016-04-06', '2016-04-12', '2016-04-05', '2016-04-15',\n",
       "       '2016-04-13', '2016-04-19', '2016-04-04', '2016-04-18',\n",
       "       '2016-04-26', '2016-04-11', '2016-04-25', '2016-04-27',\n",
       "       '2016-04-08', '2016-04-07', '2016-04-21', '2016-04-28',\n",
       "       '2016-04-20', '2016-04-14', '2016-05-23', '2016-05-05',\n",
       "       '2016-05-17', '2016-05-19', '2016-05-12', '2016-05-06',\n",
       "       '2016-05-03', '2016-05-20', '2016-05-02', '2016-05-16',\n",
       "       '2016-05-18', '2016-05-04', '2016-05-13', '2016-05-24',\n",
       "       '2016-05-27', '2016-05-10', '2016-05-30', '2016-05-25',\n",
       "       '2016-05-11', '2016-05-09', '2016-05-26'], dtype=object)"
      ]
     },
     "execution_count": 68,
     "metadata": {},
     "output_type": "execute_result"
    }
   ],
   "source": [
    "train['ult_fec_cli_1t'].unique()"
   ]
  },
  {
   "cell_type": "code",
   "execution_count": 69,
   "metadata": {
    "collapsed": false
   },
   "outputs": [
    {
     "data": {
      "text/plain": [
       "array(['A', 'I', nan, 'P', 'R', 'N'], dtype=object)"
      ]
     },
     "execution_count": 69,
     "metadata": {},
     "output_type": "execute_result"
    }
   ],
   "source": [
    "train['tiprel_1mes'].unique()"
   ]
  },
  {
   "cell_type": "code",
   "execution_count": 70,
   "metadata": {
    "collapsed": false
   },
   "outputs": [
    {
     "data": {
      "text/plain": [
       "array([ 2,  1, -1,  3,  4,  5])"
      ]
     },
     "execution_count": 70,
     "metadata": {},
     "output_type": "execute_result"
    }
   ],
   "source": [
    "mapping_triprel = {'I':1, 'A':2, 'P':3, 'R':4, 'N':5}\n",
    "train['tiprel_1mes'] = train['tiprel_1mes'].apply(lambda x: mapping_triprel.get(x, -1))\n",
    "train['tiprel_1mes'].unique()"
   ]
  },
  {
   "cell_type": "code",
   "execution_count": 71,
   "metadata": {
    "collapsed": false
   },
   "outputs": [
    {
     "data": {
      "text/plain": [
       "array(['S', nan, 'N'], dtype=object)"
      ]
     },
     "execution_count": 71,
     "metadata": {},
     "output_type": "execute_result"
    }
   ],
   "source": [
    "train['indresi'].unique()"
   ]
  },
  {
   "cell_type": "code",
   "execution_count": 75,
   "metadata": {
    "collapsed": false
   },
   "outputs": [
    {
     "data": {
      "text/plain": [
       "array([-1])"
      ]
     },
     "execution_count": 75,
     "metadata": {},
     "output_type": "execute_result"
    }
   ],
   "source": [
    "mapping_SN = {'S': 1, 'N':2}\n",
    "train['indresi'] = train['indresi'].apply(lambda x: mapping_SN.get(x, -1))\n",
    "train['indresi'].unique()"
   ]
  },
  {
   "cell_type": "code",
   "execution_count": 73,
   "metadata": {
    "collapsed": false
   },
   "outputs": [
    {
     "data": {
      "text/plain": [
       "array(['N', 'S', nan], dtype=object)"
      ]
     },
     "execution_count": 73,
     "metadata": {},
     "output_type": "execute_result"
    }
   ],
   "source": [
    "train['indext'].unique()"
   ]
  },
  {
   "cell_type": "code",
   "execution_count": 76,
   "metadata": {
    "collapsed": false
   },
   "outputs": [
    {
     "data": {
      "text/plain": [
       "array([ 2,  1, -1])"
      ]
     },
     "execution_count": 76,
     "metadata": {},
     "output_type": "execute_result"
    }
   ],
   "source": [
    "train['indext'] = train['indext'].apply(lambda x: mapping_SN.get(x, -1))\n",
    "train['indext'].unique()"
   ]
  },
  {
   "cell_type": "code",
   "execution_count": 78,
   "metadata": {
    "collapsed": false
   },
   "outputs": [
    {
     "data": {
      "text/plain": [
       "array([nan, 'N', 'S'], dtype=object)"
      ]
     },
     "execution_count": 78,
     "metadata": {},
     "output_type": "execute_result"
    }
   ],
   "source": [
    "train['conyuemp'].unique()"
   ]
  },
  {
   "cell_type": "code",
   "execution_count": 79,
   "metadata": {
    "collapsed": false
   },
   "outputs": [
    {
     "data": {
      "text/plain": [
       "array([-1,  2,  1])"
      ]
     },
     "execution_count": 79,
     "metadata": {},
     "output_type": "execute_result"
    }
   ],
   "source": [
    "train['conyuemp'] = train['conyuemp'].apply(lambda x: mapping_SN.get(x, -1))\n",
    "train['conyuemp'].unique()"
   ]
  },
  {
   "cell_type": "code",
   "execution_count": 80,
   "metadata": {
    "collapsed": false
   },
   "outputs": [
    {
     "data": {
      "text/plain": [
       "array(['KHL', 'KHE', 'KHD', 'KFA', 'KFC', 'KAT', nan, 'KAZ', 'RED', 'KHC',\n",
       "       'KHK', 'KGN', 'KHM', 'KHO', 'KDH', 'KEH', 'KAD', 'KBG', 'KGC',\n",
       "       'KHF', 'KFK', 'KHN', 'KHA', 'KAF', 'KGX', 'KFD', 'KAG', 'KFG',\n",
       "       'KAB', 'KCC', 'KAE', 'KAH', 'KAR', 'KFJ', 'KFL', 'KAI', 'KFU',\n",
       "       'KAQ', 'KFS', 'KAA', 'KFP', 'KAJ', 'KFN', 'KGV', 'KGY', 'KFF',\n",
       "       'KAP', 'KDE', 'KFV', '013', 'K00', 'KAK', 'KCK', 'KCL', 'KAY',\n",
       "       'KBU', 'KDR', 'KAC', 'KDT', 'KCG', 'KDO', 'KDY', 'KBQ', 'KDA',\n",
       "       'KBO', 'KCI', 'KEC', 'KBZ', 'KES', 'KDX', 'KAS', '007', 'KEU',\n",
       "       'KCA', 'KAL', 'KDC', 'KAW', 'KCS', 'KCB', 'KDU', 'KDQ', 'KCN',\n",
       "       'KCM', '004', 'KCH', 'KCD', 'KCE', 'KEV', 'KBL', 'KEA', 'KBH',\n",
       "       'KDV', 'KFT', 'KEY', 'KAO', 'KEJ', 'KEO', 'KEI', 'KEW', 'KDZ',\n",
       "       'KBV', 'KBR', 'KBF', 'KDP', 'KCO', 'KCF', 'KCV', 'KAM', 'KEZ',\n",
       "       'KBD', 'KAN', 'KBY', 'KCT', 'KDD', 'KBW', 'KCU', 'KBX', 'KDB',\n",
       "       'KBS', 'KBE', 'KCX', 'KBP', 'KBN', 'KEB', 'KDS', 'KEL', 'KDG',\n",
       "       'KDF', 'KEF', 'KCP', 'KDM', 'KBB', 'KDW', 'KBJ', 'KFI', 'KBM',\n",
       "       'KEG', 'KEN', 'KEQ', 'KAV', 'KFH', 'KFM', 'KAU', 'KED', 'KFR',\n",
       "       'KEK', 'KFB', 'KGW', 'KFE', 'KGU', 'KDI', 'KDN', 'KEE', 'KCR',\n",
       "       'KCQ', 'KEM', 'KCJ', 'KHQ', 'KDL', '025', 'KHP', 'KHR', 'KHS'], dtype=object)"
      ]
     },
     "execution_count": 80,
     "metadata": {},
     "output_type": "execute_result"
    }
   ],
   "source": [
    "train['canal_entrada'].unique()"
   ]
  },
  {
   "cell_type": "code",
   "execution_count": 81,
   "metadata": {
    "collapsed": false
   },
   "outputs": [
    {
     "data": {
      "text/plain": [
       "array([  6,   1,   2,   3,   4,   5,  -1,   7,   8,   9,  10,  11,  12,\n",
       "        13,  14,  15,  16,  17,  18,  19,  20,  21,  22,  23,  24,  25,\n",
       "        26,  27,  28,  29,  30,  31,  32,  33,  34,  35,  36,  37,  38,\n",
       "        39,  40,  41,  42,  43,  44,  45,  46,  47,  48,  49,  50,  51,\n",
       "        52,  53,  54,  55,  56,  57,  58,  59,  60,  61,  62,  63,  64,\n",
       "        65,  66,  67,  68,  69,  70,  71,  72,  73,  74,  75,  76,  77,\n",
       "        78,  79,  80,  81,  82,  83,  84,  85,  86,  87,  88,  89,  90,\n",
       "        91,  92,  93,  94,  95,  96,  97,  98,  99, 100, 101, 102, 103,\n",
       "       104, 105, 106, 107, 108, 109, 110, 111, 112, 113, 114, 115, 116,\n",
       "       117, 118, 119, 120, 121, 122, 123, 124, 125, 126, 127, 128, 129,\n",
       "       130, 131, 132, 133, 134, 135, 136, 137, 138, 139, 140, 141, 142,\n",
       "       143, 144, 145, 146, 147, 148, 149, 150, 151, 152, 153, 154, 155,\n",
       "       156, 157, 158, 159, 160, 161, 162])"
      ]
     },
     "execution_count": 81,
     "metadata": {},
     "output_type": "execute_result"
    }
   ],
   "source": [
    "mapping_canal_entrada = {'013': 49, 'KHP': 160, 'KHQ': 157, 'KHR': 161,\n",
    "                         'KHS': 162, 'KHK': 10, 'KHL': 6, 'KHM': 12,\n",
    "                         'KHN': 21, 'KHO': 13, 'KHA': 22, 'KHC': 9,\n",
    "                         'KHD': 2, 'KHE': 1, 'KHF': 19, '025': 159,\n",
    "                         'KAC': 57, 'KAB': 28, 'KAA': 39, 'KAG': 26,\n",
    "                         'KAF': 23, 'KAE': 30, 'KAD': 16, 'KAK': 51,\n",
    "                         'KAJ': 41, 'KAI': 35, 'KAH': 31, 'KAO': 94,\n",
    "                         'KAN': 110, 'KAM': 107, 'KAL': 74, 'KAS': 70,\n",
    "                         'KAR': 32, 'KAQ': 37, 'KAP': 46, 'KAW': 76,\n",
    "                         'KAV': 139, 'KAU': 142, 'KAT': 5, 'KAZ': 7,\n",
    "                         'KAY': 54, 'KBJ': 133, 'KBH': 90, 'KBN': 122,\n",
    "                         'KBO': 64, 'KBL': 88, 'KBM': 135, 'KBB': 131,\n",
    "                         'KBF': 102, 'KBG': 17, 'KBD': 109, 'KBE': 119,\n",
    "                         'KBZ': 67, 'KBX': 116, 'KBY': 111, 'KBR': 101,\n",
    "                         'KBS': 118, 'KBP': 121, 'KBQ': 62, 'KBV': 100,\n",
    "                         'KBW': 114, 'KBU': 55, 'KCE': 86, 'KCD': 85,\n",
    "                         'KCG': 59, 'KCF': 105, 'KCA': 73, 'KCC': 29,\n",
    "                         'KCB': 78, 'KCM': 82, 'KCL': 53, 'KCO': 104,\n",
    "                         'KCN': 81, 'KCI': 65, 'KCH': 84, 'KCK': 52,\n",
    "                         'KCJ': 156, 'KCU': 115, 'KCT': 112, 'KCV': 106,\n",
    "                         'KCQ': 154, 'KCP': 129, 'KCS': 77, 'KCR': 153,\n",
    "                         'KCX': 120, 'RED': 8, 'KDL': 158, 'KDM': 130,\n",
    "                         'KDN': 151, 'KDO': 60, 'KDH': 14, 'KDI': 150,\n",
    "                         'KDD': 113, 'KDE': 47, 'KDF': 127, 'KDG': 126,\n",
    "                         'KDA': 63, 'KDB': 117, 'KDC': 75, 'KDX': 69,\n",
    "                         'KDY': 61, 'KDZ': 99, 'KDT': 58, 'KDU': 79,\n",
    "                         'KDV': 91, 'KDW': 132, 'KDP': 103, 'KDQ': 80,\n",
    "                         'KDR': 56, 'KDS': 124, 'K00': 50, 'KEO': 96,\n",
    "                         'KEN': 137, 'KEM': 155, 'KEL': 125, 'KEK': 145,\n",
    "                         'KEJ': 95, 'KEI': 97, 'KEH': 15, 'KEG': 136,\n",
    "                         'KEF': 128, 'KEE': 152, 'KED': 143, 'KEC': 66,\n",
    "                         'KEB': 123, 'KEA': 89, 'KEZ': 108, 'KEY': 93,\n",
    "                         'KEW': 98, 'KEV': 87, 'KEU': 72, 'KES': 68,\n",
    "                         'KEQ': 138, 'KFV': 48, 'KFT': 92, 'KFU': 36,\n",
    "                         'KFR': 144, 'KFS': 38, 'KFP': 40, 'KFF': 45,\n",
    "                         'KFG': 27, 'KFD': 25, 'KFE': 148, 'KFB': 146,\n",
    "                         'KFC': 4, 'KFA': 3, 'KFN': 42, 'KFL': 34,\n",
    "                         'KFM': 141, 'KFJ': 33, 'KFK': 20, 'KFH': 140,\n",
    "                         'KFI': 134, '007': 71, '004': 83, 'KGU': 149,\n",
    "                         'KGW': 147, 'KGV': 43, 'KGY': 44, 'KGX': 24,\n",
    "                         'KGC': 18, 'KGN': 11}\n",
    "\n",
    "train['canal_entrada'] = train['canal_entrada'].apply(lambda x: mapping_canal_entrada.get(x, -1))\n",
    "train['canal_entrada'].unique()"
   ]
  },
  {
   "cell_type": "code",
   "execution_count": 83,
   "metadata": {
    "collapsed": false
   },
   "outputs": [
    {
     "data": {
      "text/plain": [
       "array(['N', nan, 'S'], dtype=object)"
      ]
     },
     "execution_count": 83,
     "metadata": {},
     "output_type": "execute_result"
    }
   ],
   "source": [
    "train['indfall'].unique()"
   ]
  },
  {
   "cell_type": "code",
   "execution_count": 84,
   "metadata": {
    "collapsed": false
   },
   "outputs": [
    {
     "data": {
      "text/plain": [
       "array([ 2, -1,  1])"
      ]
     },
     "execution_count": 84,
     "metadata": {},
     "output_type": "execute_result"
    }
   ],
   "source": [
    "train['indfall'] = train['indfall'].apply(lambda x: mapping_SN.get(x, -1))\n",
    "train['indfall'].unique()"
   ]
  },
  {
   "cell_type": "code",
   "execution_count": 85,
   "metadata": {
    "collapsed": false
   },
   "outputs": [
    {
     "data": {
      "text/plain": [
       "array([  1.,  nan])"
      ]
     },
     "execution_count": 85,
     "metadata": {},
     "output_type": "execute_result"
    }
   ],
   "source": [
    "train['tipodom'].unique()"
   ]
  },
  {
   "cell_type": "code",
   "execution_count": 87,
   "metadata": {
    "collapsed": false
   },
   "outputs": [
    {
     "data": {
      "text/plain": [
       "array([ 1, -1])"
      ]
     },
     "execution_count": 87,
     "metadata": {},
     "output_type": "execute_result"
    }
   ],
   "source": [
    "train['tipodom'] = train['tipodom'].fillna(-1)\n",
    "train['tipodom'] = train['tipodom'].astype(int)\n",
    "train['tipodom'].unique()"
   ]
  },
  {
   "cell_type": "code",
   "execution_count": 89,
   "metadata": {
    "collapsed": false
   },
   "outputs": [
    {
     "data": {
      "text/plain": [
       "array([ 29.,  13.,  50.,  45.,  24.,  20.,  10.,  17.,  49.,   8.,  37.,\n",
       "         9.,  22.,  31.,   5.,  40.,  27.,  25.,  28.,   3.,  42.,  41.,\n",
       "        39.,   7.,  47.,  36.,  46.,  44.,  15.,  32.,  23.,  16.,  48.,\n",
       "        12.,  26.,   2.,   6.,  30.,  11.,  nan,   4.,  19.,  34.,  35.,\n",
       "        14.,  21.,  18.,  33.,  38.,  52.,  43.,   1.,  51.])"
      ]
     },
     "execution_count": 89,
     "metadata": {},
     "output_type": "execute_result"
    }
   ],
   "source": [
    "train['cod_prov'].unique()"
   ]
  },
  {
   "cell_type": "code",
   "execution_count": 90,
   "metadata": {
    "collapsed": false
   },
   "outputs": [
    {
     "data": {
      "text/plain": [
       "array([29, 13, 50, 45, 24, 20, 10, 17, 49,  8, 37,  9, 22, 31,  5, 40, 27,\n",
       "       25, 28,  3, 42, 41, 39,  7, 47, 36, 46, 44, 15, 32, 23, 16, 48, 12,\n",
       "       26,  2,  6, 30, 11, -1,  4, 19, 34, 35, 14, 21, 18, 33, 38, 52, 43,\n",
       "        1, 51])"
      ]
     },
     "execution_count": 90,
     "metadata": {},
     "output_type": "execute_result"
    }
   ],
   "source": [
    "train['cod_prov'] = train['cod_prov'].fillna(-1)\n",
    "train['cod_prov'] = train['cod_prov'].astype(int)\n",
    "train['cod_prov'].unique()"
   ]
  },
  {
   "cell_type": "code",
   "execution_count": 91,
   "metadata": {
    "collapsed": false
   },
   "outputs": [
    {
     "data": {
      "text/plain": [
       "array([  1.,   0.,  nan])"
      ]
     },
     "execution_count": 91,
     "metadata": {},
     "output_type": "execute_result"
    }
   ],
   "source": [
    "train['ind_actividad_cliente'].unique()"
   ]
  },
  {
   "cell_type": "code",
   "execution_count": 92,
   "metadata": {
    "collapsed": false
   },
   "outputs": [
    {
     "data": {
      "text/plain": [
       "array([ 1,  0, -1])"
      ]
     },
     "execution_count": 92,
     "metadata": {},
     "output_type": "execute_result"
    }
   ],
   "source": [
    "train['ind_actividad_cliente'] = train['ind_actividad_cliente'].fillna(-1)\n",
    "train['ind_actividad_cliente'] = train['ind_actividad_cliente'].astype(int)\n",
    "train['ind_actividad_cliente'].unique()"
   ]
  },
  {
   "cell_type": "code",
   "execution_count": 96,
   "metadata": {
    "collapsed": false
   },
   "outputs": [
    {
     "data": {
      "text/plain": [
       "2794375"
      ]
     },
     "execution_count": 96,
     "metadata": {},
     "output_type": "execute_result"
    }
   ],
   "source": [
    "train['renta'].isnull().sum()"
   ]
  },
  {
   "cell_type": "code",
   "execution_count": 97,
   "metadata": {
    "collapsed": false
   },
   "outputs": [
    {
     "data": {
      "text/plain": [
       "0"
      ]
     },
     "execution_count": 97,
     "metadata": {},
     "output_type": "execute_result"
    }
   ],
   "source": [
    "train['renta'] = train['renta'].fillna(-1)\n",
    "train['renta'].isnull().sum()"
   ]
  },
  {
   "cell_type": "code",
   "execution_count": 98,
   "metadata": {
    "collapsed": false
   },
   "outputs": [
    {
     "data": {
      "text/plain": [
       "array(['02 - PARTICULARES', '03 - UNIVERSITARIO', nan, '01 - TOP'], dtype=object)"
      ]
     },
     "execution_count": 98,
     "metadata": {},
     "output_type": "execute_result"
    }
   ],
   "source": [
    "train['segmento'].unique()"
   ]
  },
  {
   "cell_type": "code",
   "execution_count": 104,
   "metadata": {
    "collapsed": false
   },
   "outputs": [
    {
     "data": {
      "text/plain": [
       "array([ 2,  3, -1,  1])"
      ]
     },
     "execution_count": 104,
     "metadata": {},
     "output_type": "execute_result"
    }
   ],
   "source": [
    "mapping_segmento = {'01 - TOP': 1, '02 - PARTICULARES': 2, '03 - UNIVERSITARIO':3}\n",
    "train['segmento'] = train['segmento'].apply(lambda x: mapping_segmento.get(x, -1))\n",
    "train['segmento'].unique()"
   ]
  },
  {
   "cell_type": "code",
   "execution_count": 105,
   "metadata": {
    "collapsed": false
   },
   "outputs": [
    {
     "data": {
      "text/plain": [
       "array(['MALAGA', 'CIUDAD REAL', 'ZARAGOZA', 'TOLEDO', 'LEON', 'GIPUZKOA',\n",
       "       'CACERES', 'GIRONA', 'ZAMORA', 'BARCELONA', 'SALAMANCA', 'BURGOS',\n",
       "       'HUESCA', 'NAVARRA', 'AVILA', 'SEGOVIA', 'LUGO', 'LERIDA', 'MADRID',\n",
       "       'ALICANTE', 'SORIA', 'SEVILLA', 'CANTABRIA', 'BALEARS, ILLES',\n",
       "       'VALLADOLID', 'PONTEVEDRA', 'VALENCIA', 'TERUEL',\n",
       "       'CORU\\xc3\\x91A, A', 'OURENSE', 'JAEN', 'CUENCA', 'BIZKAIA',\n",
       "       'CASTELLON', 'RIOJA, LA', 'ALBACETE', 'BADAJOZ', 'MURCIA', 'CADIZ',\n",
       "       nan, 'ALMERIA', 'GUADALAJARA', 'PALENCIA', 'PALMAS, LAS', 'CORDOBA',\n",
       "       'HUELVA', 'GRANADA', 'ASTURIAS', 'SANTA CRUZ DE TENERIFE',\n",
       "       'MELILLA', 'TARRAGONA', 'ALAVA', 'CEUTA'], dtype=object)"
      ]
     },
     "execution_count": 105,
     "metadata": {},
     "output_type": "execute_result"
    }
   ],
   "source": [
    "train['nomprov'].unique()"
   ]
  },
  {
   "cell_type": "code",
   "execution_count": 107,
   "metadata": {
    "collapsed": false
   },
   "outputs": [],
   "source": [
    "train['ind_nomina_ult1'] = train['ind_nomina_ult1'].fillna(0)\n",
    "train['ind_nom_pens_ult1'] = train['ind_nom_pens_ult1'].fillna(0)"
   ]
  },
  {
   "cell_type": "code",
   "execution_count": 108,
   "metadata": {
    "collapsed": false
   },
   "outputs": [
    {
     "name": "stdout",
     "output_type": "stream",
     "text": [
      "<class 'pandas.core.frame.DataFrame'>\n",
      "RangeIndex: 13647309 entries, 0 to 13647308\n",
      "Data columns (total 48 columns):\n",
      "fecha_dato               object\n",
      "ncodpers                 int64\n",
      "ind_empleado             int64\n",
      "pais_residencia          int64\n",
      "sexo                     int64\n",
      "age                      int64\n",
      "fecha_alta               object\n",
      "ind_nuevo                int64\n",
      "antiguedad               float64\n",
      "indrel                   int64\n",
      "ult_fec_cli_1t           object\n",
      "indrel_1mes              int64\n",
      "tiprel_1mes              int64\n",
      "indresi                  int64\n",
      "indext                   int64\n",
      "conyuemp                 int64\n",
      "canal_entrada            int64\n",
      "indfall                  int64\n",
      "tipodom                  int64\n",
      "cod_prov                 int64\n",
      "nomprov                  object\n",
      "ind_actividad_cliente    int64\n",
      "renta                    float64\n",
      "segmento                 int64\n",
      "ind_ahor_fin_ult1        int64\n",
      "ind_aval_fin_ult1        int64\n",
      "ind_cco_fin_ult1         int64\n",
      "ind_cder_fin_ult1        int64\n",
      "ind_cno_fin_ult1         int64\n",
      "ind_ctju_fin_ult1        int64\n",
      "ind_ctma_fin_ult1        int64\n",
      "ind_ctop_fin_ult1        int64\n",
      "ind_ctpp_fin_ult1        int64\n",
      "ind_deco_fin_ult1        int64\n",
      "ind_deme_fin_ult1        int64\n",
      "ind_dela_fin_ult1        int64\n",
      "ind_ecue_fin_ult1        int64\n",
      "ind_fond_fin_ult1        int64\n",
      "ind_hip_fin_ult1         int64\n",
      "ind_plan_fin_ult1        int64\n",
      "ind_pres_fin_ult1        int64\n",
      "ind_reca_fin_ult1        int64\n",
      "ind_tjcr_fin_ult1        int64\n",
      "ind_valo_fin_ult1        int64\n",
      "ind_viv_fin_ult1         int64\n",
      "ind_nomina_ult1          float64\n",
      "ind_nom_pens_ult1        float64\n",
      "ind_recibo_ult1          int64\n",
      "dtypes: float64(4), int64(40), object(4)\n",
      "memory usage: 4.9+ GB\n"
     ]
    }
   ],
   "source": [
    "train.info()"
   ]
  },
  {
   "cell_type": "code",
   "execution_count": null,
   "metadata": {
    "collapsed": true
   },
   "outputs": [],
   "source": []
  }
 ],
 "metadata": {
  "kernelspec": {
   "display_name": "Python 2",
   "language": "python",
   "name": "python2"
  },
  "language_info": {
   "codemirror_mode": {
    "name": "ipython",
    "version": 2
   },
   "file_extension": ".py",
   "mimetype": "text/x-python",
   "name": "python",
   "nbconvert_exporter": "python",
   "pygments_lexer": "ipython2",
   "version": "2.7.12"
  }
 },
 "nbformat": 4,
 "nbformat_minor": 1
}
