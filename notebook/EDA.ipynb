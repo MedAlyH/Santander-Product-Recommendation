{
 "cells": [
  {
   "cell_type": "code",
   "execution_count": 1,
   "metadata": {
    "collapsed": true
   },
   "outputs": [],
   "source": [
    "import pandas as pd"
   ]
  },
  {
   "cell_type": "code",
   "execution_count": 2,
   "metadata": {
    "collapsed": false
   },
   "outputs": [
    {
     "name": "stdout",
     "output_type": "stream",
     "text": [
      "<class 'pandas.core.frame.DataFrame'>\n",
      "RangeIndex: 13647309 entries, 0 to 13647308\n",
      "Data columns (total 47 columns):\n",
      "fecha_dato               object\n",
      "ncodpers                 int64\n",
      "ind_empleado             int64\n",
      "pais_residencia          int64\n",
      "sexo                     int64\n",
      "age                      int64\n",
      "fecha_alta               int64\n",
      "ind_nuevo                int64\n",
      "antiguedad               int64\n",
      "indrel                   int64\n",
      "ult_fec_cli_1t           int64\n",
      "indrel_1mes              int64\n",
      "tiprel_1mes              int64\n",
      "indresi                  int64\n",
      "indext                   int64\n",
      "conyuemp                 int64\n",
      "canal_entrada            int64\n",
      "indfall                  int64\n",
      "tipodom                  int64\n",
      "cod_prov                 int64\n",
      "ind_actividad_cliente    int64\n",
      "renta                    float64\n",
      "segmento                 int64\n",
      "ind_ahor_fin_ult1        int64\n",
      "ind_aval_fin_ult1        int64\n",
      "ind_cco_fin_ult1         int64\n",
      "ind_cder_fin_ult1        int64\n",
      "ind_cno_fin_ult1         int64\n",
      "ind_ctju_fin_ult1        int64\n",
      "ind_ctma_fin_ult1        int64\n",
      "ind_ctop_fin_ult1        int64\n",
      "ind_ctpp_fin_ult1        int64\n",
      "ind_deco_fin_ult1        int64\n",
      "ind_deme_fin_ult1        int64\n",
      "ind_dela_fin_ult1        int64\n",
      "ind_ecue_fin_ult1        int64\n",
      "ind_fond_fin_ult1        int64\n",
      "ind_hip_fin_ult1         int64\n",
      "ind_plan_fin_ult1        int64\n",
      "ind_pres_fin_ult1        int64\n",
      "ind_reca_fin_ult1        int64\n",
      "ind_tjcr_fin_ult1        int64\n",
      "ind_valo_fin_ult1        int64\n",
      "ind_viv_fin_ult1         int64\n",
      "ind_nomina_ult1          int64\n",
      "ind_nom_pens_ult1        int64\n",
      "ind_recibo_ult1          int64\n",
      "dtypes: float64(1), int64(45), object(1)\n",
      "memory usage: 4.8+ GB\n"
     ]
    }
   ],
   "source": [
    "train = pd.read_csv('../data/input/train.csv')\n",
    "train.info()"
   ]
  },
  {
   "cell_type": "code",
   "execution_count": 3,
   "metadata": {
    "collapsed": false
   },
   "outputs": [
    {
     "name": "stdout",
     "output_type": "stream",
     "text": [
      "<class 'pandas.core.frame.DataFrame'>\n",
      "RangeIndex: 929615 entries, 0 to 929614\n",
      "Data columns (total 23 columns):\n",
      "fecha_dato               929615 non-null object\n",
      "ncodpers                 929615 non-null int64\n",
      "ind_empleado             929615 non-null int64\n",
      "pais_residencia          929615 non-null int64\n",
      "sexo                     929615 non-null int64\n",
      "age                      929615 non-null int64\n",
      "fecha_alta               929615 non-null int64\n",
      "ind_nuevo                929615 non-null int64\n",
      "antiguedad               929615 non-null int64\n",
      "indrel                   929615 non-null int64\n",
      "ult_fec_cli_1t           929615 non-null int64\n",
      "indrel_1mes              929615 non-null int64\n",
      "tiprel_1mes              929615 non-null int64\n",
      "indresi                  929615 non-null int64\n",
      "indext                   929615 non-null int64\n",
      "conyuemp                 929615 non-null int64\n",
      "canal_entrada            929615 non-null int64\n",
      "indfall                  929615 non-null int64\n",
      "tipodom                  929615 non-null int64\n",
      "cod_prov                 929615 non-null int64\n",
      "ind_actividad_cliente    929615 non-null int64\n",
      "renta                    929615 non-null float64\n",
      "segmento                 929615 non-null int64\n",
      "dtypes: float64(1), int64(21), object(1)\n",
      "memory usage: 163.1+ MB\n"
     ]
    }
   ],
   "source": [
    "test = pd.read_csv('../data/input/test.csv')\n",
    "test.info()"
   ]
  },
  {
   "cell_type": "code",
   "execution_count": 6,
   "metadata": {
    "collapsed": false
   },
   "outputs": [],
   "source": [
    "from sklearn.ensemble import RandomForestClassifier\n",
    "from sklearn.multiclass import OneVsRestClassifier\n",
    "from sklearn.model_selection import train_test_split\n",
    "target_cols = ['ind_ahor_fin_ult1','ind_aval_fin_ult1','ind_cco_fin_ult1',\n",
    "               'ind_cder_fin_ult1','ind_cno_fin_ult1','ind_ctju_fin_ult1',\n",
    "               'ind_ctma_fin_ult1','ind_ctop_fin_ult1','ind_ctpp_fin_ult1',\n",
    "               'ind_deco_fin_ult1','ind_deme_fin_ult1','ind_dela_fin_ult1',\n",
    "               'ind_ecue_fin_ult1','ind_fond_fin_ult1','ind_hip_fin_ult1',\n",
    "               'ind_plan_fin_ult1','ind_pres_fin_ult1','ind_reca_fin_ult1',\n",
    "               'ind_tjcr_fin_ult1','ind_valo_fin_ult1','ind_viv_fin_ult1',\n",
    "               'ind_nomina_ult1','ind_nom_pens_ult1','ind_recibo_ult1']\n",
    "y = train[target_cols].values\n",
    "X = train.drop(target_cols, axis=1).drop(['fecha_dato', 'ncodpers'], axis=1).values\n",
    "X_train, X_test, y_train, y_test = train_test_split( X, y, test_size=0.33, random_state=42)\n"
   ]
  },
  {
   "cell_type": "code",
   "execution_count": null,
   "metadata": {
    "collapsed": false
   },
   "outputs": [
    {
     "name": "stderr",
     "output_type": "stream",
     "text": [
      "[Parallel(n_jobs=1)]: Done 100 out of 100 | elapsed: 26.0min finished\n",
      "[Parallel(n_jobs=1)]: Done 100 out of 100 | elapsed: 27.7min finished\n",
      "[Parallel(n_jobs=1)]: Done 100 out of 100 | elapsed: 34.3min finished\n",
      "[Parallel(n_jobs=1)]: Done 100 out of 100 | elapsed: 40.3min finished\n",
      "[Parallel(n_jobs=1)]: Done 100 out of 100 | elapsed: 60.8min finished\n",
      "[Parallel(n_jobs=1)]: Done 100 out of 100 | elapsed: 63.7min finished\n",
      "[Parallel(n_jobs=1)]: Done 100 out of 100 | elapsed: 47.2min finished\n",
      "[Parallel(n_jobs=1)]: Done 100 out of 100 | elapsed: 82.0min finished\n",
      "[Parallel(n_jobs=1)]: Done 100 out of 100 | elapsed: 60.4min finished\n",
      "[Parallel(n_jobs=1)]: Done 100 out of 100 | elapsed: 25.8min finished\n",
      "[Parallel(n_jobs=1)]: Done 100 out of 100 | elapsed: 60.5min finished\n"
     ]
    }
   ],
   "source": [
    "rf = RandomForestClassifier(n_estimators=100, verbose=1)\n",
    "multi_clf = OneVsRestClassifier(estimator=rf, n_jobs=-1)\n",
    "multi_clf.fit(X_train, y_train)"
   ]
  },
  {
   "cell_type": "code",
   "execution_count": null,
   "metadata": {
    "collapsed": false
   },
   "outputs": [],
   "source": [
    "multi_clf"
   ]
  },
  {
   "cell_type": "code",
   "execution_count": null,
   "metadata": {
    "collapsed": true
   },
   "outputs": [],
   "source": []
  }
 ],
 "metadata": {
  "kernelspec": {
   "display_name": "Python 2",
   "language": "python",
   "name": "python2"
  },
  "language_info": {
   "codemirror_mode": {
    "name": "ipython",
    "version": 2
   },
   "file_extension": ".py",
   "mimetype": "text/x-python",
   "name": "python",
   "nbconvert_exporter": "python",
   "pygments_lexer": "ipython2",
   "version": "2.7.12"
  }
 },
 "nbformat": 4,
 "nbformat_minor": 1
}
