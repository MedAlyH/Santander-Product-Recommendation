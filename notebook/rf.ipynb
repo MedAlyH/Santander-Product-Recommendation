{
 "cells": [
  {
   "cell_type": "code",
   "execution_count": 1,
   "metadata": {
    "collapsed": true
   },
   "outputs": [],
   "source": [
    "import pandas as pd"
   ]
  },
  {
   "cell_type": "code",
   "execution_count": 2,
   "metadata": {
    "collapsed": false
   },
   "outputs": [
    {
     "name": "stdout",
     "output_type": "stream",
     "text": [
      "<class 'pandas.core.frame.DataFrame'>\n",
      "RangeIndex: 13647309 entries, 0 to 13647308\n",
      "Data columns (total 47 columns):\n",
      "fecha_dato               datetime64[ns]\n",
      "ncodpers                 int64\n",
      "ind_empleado             int64\n",
      "pais_residencia          int64\n",
      "sexo                     int64\n",
      "age                      int64\n",
      "fecha_alta               int64\n",
      "ind_nuevo                int64\n",
      "antiguedad               int64\n",
      "indrel                   int64\n",
      "ult_fec_cli_1t           int64\n",
      "indrel_1mes              int64\n",
      "tiprel_1mes              int64\n",
      "indresi                  int64\n",
      "indext                   int64\n",
      "conyuemp                 int64\n",
      "canal_entrada            int64\n",
      "indfall                  int64\n",
      "tipodom                  int64\n",
      "cod_prov                 int64\n",
      "ind_actividad_cliente    int64\n",
      "renta                    float64\n",
      "segmento                 int64\n",
      "ind_ahor_fin_ult1        int64\n",
      "ind_aval_fin_ult1        int64\n",
      "ind_cco_fin_ult1         int64\n",
      "ind_cder_fin_ult1        int64\n",
      "ind_cno_fin_ult1         int64\n",
      "ind_ctju_fin_ult1        int64\n",
      "ind_ctma_fin_ult1        int64\n",
      "ind_ctop_fin_ult1        int64\n",
      "ind_ctpp_fin_ult1        int64\n",
      "ind_deco_fin_ult1        int64\n",
      "ind_deme_fin_ult1        int64\n",
      "ind_dela_fin_ult1        int64\n",
      "ind_ecue_fin_ult1        int64\n",
      "ind_fond_fin_ult1        int64\n",
      "ind_hip_fin_ult1         int64\n",
      "ind_plan_fin_ult1        int64\n",
      "ind_pres_fin_ult1        int64\n",
      "ind_reca_fin_ult1        int64\n",
      "ind_tjcr_fin_ult1        int64\n",
      "ind_valo_fin_ult1        int64\n",
      "ind_viv_fin_ult1         int64\n",
      "ind_nomina_ult1          int64\n",
      "ind_nom_pens_ult1        int64\n",
      "ind_recibo_ult1          int64\n",
      "dtypes: datetime64[ns](1), float64(1), int64(45)\n",
      "memory usage: 4.8 GB\n"
     ]
    }
   ],
   "source": [
    "train = pd.read_csv('../data/input/train.csv', parse_dates=['fecha_dato'])\n",
    "train.info()"
   ]
  },
  {
   "cell_type": "code",
   "execution_count": 3,
   "metadata": {
    "collapsed": false
   },
   "outputs": [
    {
     "name": "stdout",
     "output_type": "stream",
     "text": [
      "<class 'pandas.core.frame.DataFrame'>\n",
      "RangeIndex: 929615 entries, 0 to 929614\n",
      "Data columns (total 23 columns):\n",
      "fecha_dato               929615 non-null datetime64[ns]\n",
      "ncodpers                 929615 non-null int64\n",
      "ind_empleado             929615 non-null int64\n",
      "pais_residencia          929615 non-null int64\n",
      "sexo                     929615 non-null int64\n",
      "age                      929615 non-null int64\n",
      "fecha_alta               929615 non-null int64\n",
      "ind_nuevo                929615 non-null int64\n",
      "antiguedad               929615 non-null int64\n",
      "indrel                   929615 non-null int64\n",
      "ult_fec_cli_1t           929615 non-null int64\n",
      "indrel_1mes              929615 non-null int64\n",
      "tiprel_1mes              929615 non-null int64\n",
      "indresi                  929615 non-null int64\n",
      "indext                   929615 non-null int64\n",
      "conyuemp                 929615 non-null int64\n",
      "canal_entrada            929615 non-null int64\n",
      "indfall                  929615 non-null int64\n",
      "tipodom                  929615 non-null int64\n",
      "cod_prov                 929615 non-null int64\n",
      "ind_actividad_cliente    929615 non-null int64\n",
      "renta                    929615 non-null float64\n",
      "segmento                 929615 non-null int64\n",
      "dtypes: datetime64[ns](1), float64(1), int64(21)\n",
      "memory usage: 163.1 MB\n"
     ]
    }
   ],
   "source": [
    "test = pd.read_csv('../data/input/test.csv', parse_dates=['fecha_dato'])\n",
    "test.info()"
   ]
  },
  {
   "cell_type": "code",
   "execution_count": 4,
   "metadata": {
    "collapsed": false
   },
   "outputs": [],
   "source": [
    "from sklearn.ensemble import RandomForestClassifier\n",
    "from sklearn.multiclass import OneVsRestClassifier\n",
    "from sklearn.model_selection import train_test_split\n"
   ]
  },
  {
   "cell_type": "code",
   "execution_count": 5,
   "metadata": {
    "collapsed": false
   },
   "outputs": [],
   "source": [
    "import datetime\n",
    "thre_date = datetime.datetime(2016, 3, 28)"
   ]
  },
  {
   "cell_type": "code",
   "execution_count": 26,
   "metadata": {
    "collapsed": true
   },
   "outputs": [],
   "source": [
    "target_cols = ['ind_ahor_fin_ult1','ind_aval_fin_ult1','ind_cco_fin_ult1',\n",
    "               'ind_cder_fin_ult1','ind_cno_fin_ult1','ind_ctju_fin_ult1',\n",
    "               'ind_ctma_fin_ult1','ind_ctop_fin_ult1','ind_ctpp_fin_ult1',\n",
    "               'ind_deco_fin_ult1','ind_deme_fin_ult1','ind_dela_fin_ult1',\n",
    "               'ind_ecue_fin_ult1','ind_fond_fin_ult1','ind_hip_fin_ult1',\n",
    "               'ind_plan_fin_ult1','ind_pres_fin_ult1','ind_reca_fin_ult1',\n",
    "               'ind_tjcr_fin_ult1','ind_valo_fin_ult1','ind_viv_fin_ult1',\n",
    "               'ind_nomina_ult1','ind_nom_pens_ult1','ind_recibo_ult1'] "
   ]
  },
  {
   "cell_type": "code",
   "execution_count": 7,
   "metadata": {
    "collapsed": false
   },
   "outputs": [],
   "source": [
    "target_hist = (train[train['fecha_dato'] < thre_date]\n",
    "               .groupby('ncodpers')[target_cols].sum()).reset_index().astype(int)"
   ]
  },
  {
   "cell_type": "code",
   "execution_count": 8,
   "metadata": {
    "collapsed": false
   },
   "outputs": [],
   "source": [
    "train_new = train[train['fecha_dato'] >= thre_date]"
   ]
  },
  {
   "cell_type": "code",
   "execution_count": 9,
   "metadata": {
    "collapsed": false
   },
   "outputs": [],
   "source": [
    "train_compressed = train_new.merge(target_hist, how='left', on='ncodpers', suffixes=['', '_hist'])\n",
    "train_compressed = train_compressed.fillna(0)"
   ]
  },
  {
   "cell_type": "code",
   "execution_count": 10,
   "metadata": {
    "collapsed": false
   },
   "outputs": [],
   "source": [
    "y = train_compressed[target_cols].values\n",
    "X = train_compressed.drop(['fecha_dato', 'ncodpers'], axis=1).drop(target_cols, axis=1).values"
   ]
  },
  {
   "cell_type": "code",
   "execution_count": 11,
   "metadata": {
    "collapsed": false
   },
   "outputs": [],
   "source": [
    "X_train, X_test, y_train, y_test = train_test_split(X, y, test_size=0.33, random_state=42)"
   ]
  },
  {
   "cell_type": "code",
   "execution_count": 12,
   "metadata": {
    "collapsed": false
   },
   "outputs": [
    {
     "name": "stderr",
     "output_type": "stream",
     "text": [
      "[Parallel(n_jobs=-1)]: Done  34 tasks      | elapsed:  2.4min\n",
      "[Parallel(n_jobs=-1)]: Done 100 out of 100 | elapsed:  6.2min finished\n"
     ]
    },
    {
     "data": {
      "text/plain": [
       "RandomForestClassifier(bootstrap=True, class_weight=None, criterion='gini',\n",
       "            max_depth=None, max_features='auto', max_leaf_nodes=None,\n",
       "            min_impurity_split=1e-07, min_samples_leaf=1,\n",
       "            min_samples_split=2, min_weight_fraction_leaf=0.0,\n",
       "            n_estimators=100, n_jobs=-1, oob_score=False,\n",
       "            random_state=None, verbose=1, warm_start=False)"
      ]
     },
     "execution_count": 12,
     "metadata": {},
     "output_type": "execute_result"
    }
   ],
   "source": [
    "rf = RandomForestClassifier(n_estimators=100, n_jobs=-1, verbose=1)\n",
    "rf.fit(X_train, y_train)"
   ]
  },
  {
   "cell_type": "code",
   "execution_count": 13,
   "metadata": {
    "collapsed": true
   },
   "outputs": [],
   "source": [
    "# multi_clf = OneVsRestClassifier(estimator=rf, n_jobs=1)\n",
    "# multi_clf.fit(X_train, y_train)"
   ]
  },
  {
   "cell_type": "code",
   "execution_count": 14,
   "metadata": {
    "collapsed": false
   },
   "outputs": [
    {
     "name": "stderr",
     "output_type": "stream",
     "text": [
      "[Parallel(n_jobs=8)]: Done  34 tasks      | elapsed:   18.4s\n",
      "[Parallel(n_jobs=8)]: Done 100 out of 100 | elapsed:  1.1min finished\n"
     ]
    }
   ],
   "source": [
    "y_pred = rf.predict(X_test)"
   ]
  },
  {
   "cell_type": "code",
   "execution_count": 15,
   "metadata": {
    "collapsed": false
   },
   "outputs": [
    {
     "name": "stdout",
     "output_type": "stream",
     "text": [
      "accuracy:  0.939082792429\n",
      "f1: 0.945955222349\n",
      "precision: 0.974179258663\n",
      "recall: 0.925284920271\n"
     ]
    }
   ],
   "source": [
    "from sklearn.metrics import accuracy_score, f1_score, precision_score, recall_score, roc_auc_score\n",
    "print 'accuracy: ', accuracy_score(y_test, y_pred)\n",
    "print 'f1:', f1_score(y_test, y_pred, average='macro')\n",
    "print 'precision:', precision_score(y_test, y_pred, average='macro')\n",
    "print 'recall:', recall_score(y_test, y_pred, average='macro')"
   ]
  },
  {
   "cell_type": "code",
   "execution_count": 16,
   "metadata": {
    "collapsed": false
   },
   "outputs": [
    {
     "name": "stdout",
     "output_type": "stream",
     "text": [
      "accuracy:  0.939082792429\n",
      "f1: 0.96794208639\n",
      "precision: 0.97056174211\n",
      "recall: 0.965336534095\n"
     ]
    }
   ],
   "source": [
    "print 'accuracy: ', accuracy_score(y_test, y_pred)\n",
    "print 'f1:', f1_score(y_test, y_pred, average='micro')\n",
    "print 'precision:', precision_score(y_test, y_pred, average='micro')\n",
    "print 'recall:', recall_score(y_test, y_pred, average='micro')"
   ]
  },
  {
   "cell_type": "code",
   "execution_count": 17,
   "metadata": {
    "collapsed": false
   },
   "outputs": [],
   "source": [
    "test_new = test.merge(target_hist, how='left', on='ncodpers', suffixes=['', '_hist'])\n",
    "test_new = test_new.fillna(0)"
   ]
  },
  {
   "cell_type": "code",
   "execution_count": 18,
   "metadata": {
    "collapsed": true
   },
   "outputs": [],
   "source": [
    "X_sub = test_new.drop(['fecha_dato', 'ncodpers'], axis=1).values"
   ]
  },
  {
   "cell_type": "code",
   "execution_count": 54,
   "metadata": {
    "collapsed": false
   },
   "outputs": [
    {
     "name": "stderr",
     "output_type": "stream",
     "text": [
      "[Parallel(n_jobs=8)]: Done  34 tasks      | elapsed:   17.7s\n",
      "[Parallel(n_jobs=8)]: Done 100 out of 100 | elapsed:   45.6s finished\n"
     ]
    }
   ],
   "source": [
    "y_sub = np.array(rf.predict_proba(X_sub))"
   ]
  },
  {
   "cell_type": "code",
   "execution_count": 29,
   "metadata": {
    "collapsed": false
   },
   "outputs": [],
   "source": [
    "last_month = train[train['fecha_dato'] == datetime.datetime(2015, 5, 28)][target_cols + ['ncodpers']]"
   ]
  },
  {
   "cell_type": "code",
   "execution_count": 31,
   "metadata": {
    "collapsed": true
   },
   "outputs": [],
   "source": [
    "last_month = test[['ncodpers', 'fecha_dato']].merge(last_month, how='left', on='ncodpers')\n",
    "last_month = last_month.fillna(0).astype(int).drop(['fecha_dato'], axis=1)"
   ]
  },
  {
   "cell_type": "code",
   "execution_count": null,
   "metadata": {
    "collapsed": true
   },
   "outputs": [],
   "source": [
    "import matplotlib.pyplot as plt\n",
    "plt.style.use('ggplot')"
   ]
  },
  {
   "cell_type": "code",
   "execution_count": 32,
   "metadata": {
    "collapsed": false
   },
   "outputs": [],
   "source": [
    "target_last_month = last_month.drop('ncodpers', axis=1).values"
   ]
  },
  {
   "cell_type": "code",
   "execution_count": 61,
   "metadata": {
    "collapsed": false
   },
   "outputs": [],
   "source": [
    "y_sub = np.array(y_sub)[:,:,1].T"
   ]
  },
  {
   "cell_type": "code",
   "execution_count": 63,
   "metadata": {
    "collapsed": false
   },
   "outputs": [
    {
     "data": {
      "text/plain": [
       "(24,)"
      ]
     },
     "execution_count": 63,
     "metadata": {},
     "output_type": "execute_result"
    }
   ],
   "source": [
    "y_sub[0].shape"
   ]
  },
  {
   "cell_type": "code",
   "execution_count": 65,
   "metadata": {
    "collapsed": false,
    "scrolled": false
   },
   "outputs": [],
   "source": [
    "import numpy as np\n",
    "filename = '../data/output/sub_rf_{}.csv'.format(datetime.datetime.now().strftime(\"%Y-%m-%d-%H-%M\"))\n",
    "with open(filename, 'w+') as f:\n",
    "    f.write('ncodpers,added_products\\n')\n",
    "    for ids, res, tar in zip(test['ncodpers'], y_sub, target_last_month):\n",
    "        index = np.argsort(res)[::-1][:7]\n",
    "        tar_idx = np.arange(1, 25)[tar.astype(bool)]\n",
    "        line = ''\n",
    "        for idx in index:\n",
    "            if idx not in tar_idx:\n",
    "                line += ' ' + str(target_cols[idx])\n",
    "#             line = ' '.join(target_cols[result.astype(bool)])\n",
    "        f.write(str(ids)+','+line + '\\n')"
   ]
  },
  {
   "cell_type": "code",
   "execution_count": 66,
   "metadata": {
    "collapsed": true
   },
   "outputs": [],
   "source": [
    "features = train_compressed.drop(['fecha_dato', 'ncodpers'], axis=1).drop(target_cols, axis=1).columns"
   ]
  },
  {
   "cell_type": "code",
   "execution_count": 68,
   "metadata": {
    "collapsed": false
   },
   "outputs": [],
   "source": [
    "index = np.argsort(rf.feature_importances_)[::-1]"
   ]
  },
  {
   "cell_type": "code",
   "execution_count": 69,
   "metadata": {
    "collapsed": false
   },
   "outputs": [
    {
     "name": "stdout",
     "output_type": "stream",
     "text": [
      "Index([u'ind_cco_fin_ult1_hist', u'ind_ctop_fin_ult1_hist',\n",
      "       u'ind_recibo_ult1_hist', u'ind_nom_pens_ult1_hist',\n",
      "       u'ind_cno_fin_ult1_hist', u'ind_ecue_fin_ult1_hist',\n",
      "       u'ind_nomina_ult1_hist', u'ind_reca_fin_ult1_hist', u'fecha_alta',\n",
      "       u'ind_ctpp_fin_ult1_hist', u'ind_tjcr_fin_ult1_hist', u'antiguedad',\n",
      "       u'ind_dela_fin_ult1_hist', u'age', u'ind_actividad_cliente',\n",
      "       u'ind_valo_fin_ult1_hist', u'renta', u'ind_fond_fin_ult1_hist',\n",
      "       u'cod_prov', u'canal_entrada', u'segmento', u'tiprel_1mes',\n",
      "       u'ind_ctma_fin_ult1_hist', u'ind_plan_fin_ult1_hist',\n",
      "       u'ind_hip_fin_ult1_hist', u'ind_ctju_fin_ult1_hist', u'sexo',\n",
      "       u'ind_viv_fin_ult1_hist', u'ind_pres_fin_ult1_hist', u'ind_nuevo',\n",
      "       u'indext', u'ind_deme_fin_ult1_hist', u'ind_deco_fin_ult1_hist',\n",
      "       u'ult_fec_cli_1t', u'indrel', u'ind_cder_fin_ult1_hist',\n",
      "       u'pais_residencia', u'indrel_1mes', u'indfall', u'ind_empleado',\n",
      "       u'ind_ahor_fin_ult1_hist', u'indresi', u'conyuemp',\n",
      "       u'ind_aval_fin_ult1_hist', u'tipodom'],\n",
      "      dtype='object')\n"
     ]
    }
   ],
   "source": [
    "print features[index]"
   ]
  },
  {
   "cell_type": "code",
   "execution_count": null,
   "metadata": {
    "collapsed": true
   },
   "outputs": [],
   "source": []
  }
 ],
 "metadata": {
  "anaconda-cloud": {},
  "kernelspec": {
   "display_name": "Python 2",
   "language": "python",
   "name": "python2"
  },
  "language_info": {
   "codemirror_mode": {
    "name": "ipython",
    "version": 2
   },
   "file_extension": ".py",
   "mimetype": "text/x-python",
   "name": "python",
   "nbconvert_exporter": "python",
   "pygments_lexer": "ipython2",
   "version": "2.7.12"
  }
 },
 "nbformat": 4,
 "nbformat_minor": 1
}
